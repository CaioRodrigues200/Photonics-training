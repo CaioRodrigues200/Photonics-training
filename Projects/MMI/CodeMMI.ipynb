{
 "cells": [
  {
   "cell_type": "code",
   "execution_count": null,
   "metadata": {},
   "outputs": [],
   "source": [
    "import numpy as np\n",
    "import matplotlib.pyplot as plt\n",
    "import pandas\n",
    "from IPython.display import display, Math"
   ]
  },
  {
   "cell_type": "code",
   "execution_count": null,
   "metadata": {},
   "outputs": [],
   "source": [
    "n_c = 1.444\n",
    "n_r = 3.476\n",
    "lambda_0 = 1550e-9\n",
    "k_0 = 2*np.pi/lambda_0\n",
    "W_m = 6.0e-6\n",
    "c0 = 299792458\n",
    "N = 2"
   ]
  },
  {
   "cell_type": "code",
   "execution_count": null,
   "metadata": {},
   "outputs": [],
   "source": [
    "sigma = 0 #TE mode\n",
    "We = W_m + (lambda_0/np.pi)*((n_c/n_r)**(2*sigma)) * (n_r**2 - n_c**2)**(-0.5)\n",
    "print(We)"
   ]
  }
 ],
 "metadata": {
  "language_info": {
   "name": "python"
  },
  "orig_nbformat": 4
 },
 "nbformat": 4,
 "nbformat_minor": 2
}
