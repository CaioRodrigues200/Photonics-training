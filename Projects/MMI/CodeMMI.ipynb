{
 "cells": [
  {
   "cell_type": "code",
   "execution_count": 1,
   "metadata": {},
   "outputs": [],
   "source": [
    "import numpy as np\n",
    "import matplotlib.pyplot as plt\n",
    "import pandas\n",
    "from IPython.display import display, Math"
   ]
  },
  {
   "cell_type": "code",
   "execution_count": 2,
   "metadata": {},
   "outputs": [],
   "source": [
    "n_c = 1.444\n",
    "n_r = 3.476\n",
    "lambda_0 = 1550e-9\n",
    "k_0 = 2*np.pi/lambda_0\n",
    "W_m = 5.0e-6\n",
    "c0 = 299792458\n",
    "N = 2"
   ]
  },
  {
   "cell_type": "code",
   "execution_count": 3,
   "metadata": {},
   "outputs": [
    {
     "name": "stdout",
     "output_type": "stream",
     "text": [
      "5.156040531990453e-06\n"
     ]
    }
   ],
   "source": [
    "sigma = 0 #TE mode\n",
    "We = W_m + (lambda_0/np.pi)*((n_c/n_r)**(2*sigma)) * (n_r**2 - n_c**2)**(-0.5)\n",
    "print(We)"
   ]
  },
  {
   "cell_type": "code",
   "execution_count": 4,
   "metadata": {},
   "outputs": [],
   "source": [
    "neff_app = np.zeros(5)\n",
    "for i in range(5):\n",
    "    neff_app[i] = n_r - ((i+1)**2 * np.pi * lambda_0)/(We**2*4*n_r*k_0)\n",
    "    k_c = (i+1)*np.pi/We"
   ]
  },
  {
   "cell_type": "code",
   "execution_count": 5,
   "metadata": {},
   "outputs": [
    {
     "data": {
      "text/latex": [
       "$\\displaystyle L_{\\pi} = 59.62~um$"
      ],
      "text/plain": [
       "<IPython.core.display.Math object>"
      ]
     },
     "metadata": {},
     "output_type": "display_data"
    }
   ],
   "source": [
    "L_pi_app = 2*np.pi/(neff_app[0] - neff_app[2])/k_0\n",
    "display(Math('L_{\\pi} = %5.2f~um' %(1e6*L_pi_app)))"
   ]
  },
  {
   "cell_type": "code",
   "execution_count": 6,
   "metadata": {},
   "outputs": [
    {
     "data": {
      "text/latex": [
       "$\\displaystyle L_{\\pi} = 59.62~um$"
      ],
      "text/plain": [
       "<IPython.core.display.Math object>"
      ]
     },
     "metadata": {},
     "output_type": "display_data"
    }
   ],
   "source": [
    "L_pi_app = n_r * (We**2)/lambda_0\n",
    "display(Math('L_{\\pi} = %5.2f~um' %(1e6*L_pi_app)))"
   ]
  },
  {
   "cell_type": "code",
   "execution_count": 7,
   "metadata": {},
   "outputs": [
    {
     "data": {
      "text/latex": [
       "$\\displaystyle \\dfrac{3}{2}L_{\\pi} = 89.43~um , \\quad \\dfrac{3}{4}L_{\\pi} = 44.71~um , \\quad \\dfrac{3}{8}L_{\\pi} = 22.36~um$"
      ],
      "text/plain": [
       "<IPython.core.display.Math object>"
      ]
     },
     "metadata": {},
     "output_type": "display_data"
    }
   ],
   "source": [
    "display(Math('\\dfrac{3}{2}L_{\\pi} = %5.2f~um , \\quad \\dfrac{3}{4}L_{\\pi} = %5.2f~um , \\quad \\dfrac{3}{8}L_{\\pi} = %5.2f~um' \n",
    "%(1e6*3/2*L_pi_app , 1e6*3/4*L_pi_app , 1e6*3/8*L_pi_app)))"
   ]
  },
  {
   "cell_type": "code",
   "execution_count": 8,
   "metadata": {},
   "outputs": [
    {
     "data": {
      "text/latex": [
       "$\\displaystyle W_{wg} =  1.07~um$"
      ],
      "text/plain": [
       "<IPython.core.display.Math object>"
      ]
     },
     "metadata": {},
     "output_type": "display_data"
    }
   ],
   "source": [
    "W_wg = (1/((2*N)**(1/4)))*np.sqrt(lambda_0*We/neff_app[0])\n",
    "display(Math('W_{wg} = %5.2f~um' %(1e6*W_wg)))"
   ]
  }
 ],
 "metadata": {
  "kernelspec": {
   "display_name": "Python 3.8.10 64-bit",
   "language": "python",
   "name": "python3"
  },
  "language_info": {
   "codemirror_mode": {
    "name": "ipython",
    "version": 3
   },
   "file_extension": ".py",
   "mimetype": "text/x-python",
   "name": "python",
   "nbconvert_exporter": "python",
   "pygments_lexer": "ipython3",
   "version": "3.8.10"
  },
  "orig_nbformat": 4,
  "vscode": {
   "interpreter": {
    "hash": "916dbcbb3f70747c44a77c7bcd40155683ae19c65e1c03b4aa3499c5328201f1"
   }
  }
 },
 "nbformat": 4,
 "nbformat_minor": 2
}
