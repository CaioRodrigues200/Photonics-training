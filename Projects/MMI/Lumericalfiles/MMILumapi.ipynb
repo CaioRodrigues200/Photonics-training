{
 "cells": [
  {
   "cell_type": "code",
   "execution_count": 17,
   "metadata": {},
   "outputs": [],
   "source": [
    "import os\n",
    "import imp\n",
    "import matplotlib.pyplot as plt\n",
    "import numpy as np\n",
    "import math\n",
    "import pandas as pd\n",
    "import sys\n",
    "import pickle\n",
    "\n",
    "sys.path.append(\"/opt/lumerical/v221/api/python\") #Default linux lumapi path\n",
    "import lumapi\n",
    "sys.path.append(os.path.dirname('/home/trainner/Documents/GitHub/Photonics-training/Projects/MMI/Lumerical files')) #Current directory\n",
    "\n",
    "# os.add_dll_directory('C:\\\\Program Files\\\\Lumerical\\\\v202\\\\api\\\\python\\\\')\n",
    "# lumapi = imp.load_source('lumapi','C:\\\\Program Files\\\\Lumerical\\\\v202\\\\api\\\\python\\\\lumapi.py') "
   ]
  },
  {
   "cell_type": "code",
   "execution_count": 18,
   "metadata": {},
   "outputs": [],
   "source": [
    "mmi = lumapi.MODE(filename=\"MMIProject.lms\") "
   ]
  },
  {
   "cell_type": "markdown",
   "metadata": {},
   "source": [
    "## Functions"
   ]
  },
  {
   "cell_type": "code",
   "execution_count": 19,
   "metadata": {},
   "outputs": [],
   "source": [
    "def RectInsert(X,XSPAN,Y,YSPAN,Z,ZSPAN,MATERIAL,lumerical):\n",
    "    \n",
    "    lumerical.switchtolayout()\n",
    "    lumerical.addrect()\n",
    "    lumerical.set({\"x\":X,\"y\":Y,\"z\":Z,\n",
    "         \"x span\":XSPAN, \"y span\":YSPAN, \"z span\":ZSPAN,\n",
    "         \"material\":MATERIAL\n",
    "        })"
   ]
  },
  {
   "cell_type": "markdown",
   "metadata": {},
   "source": [
    "## Assembly parameters"
   ]
  },
  {
   "cell_type": "code",
   "execution_count": 20,
   "metadata": {},
   "outputs": [],
   "source": [
    "# Body config------------------------------------\n",
    "BdX_Span = 31.87e-6 # Body X Span\n",
    "BdY_Span = 6e-6 # Body y Span\n",
    "\n",
    "\n",
    "# Ports config-----------------------------------\n",
    "\n",
    "OutMx = [1.6e-6,-1.6e-6] # Array of output ports y positions (put 0 on first element to ignore this line)\n",
    "InMx = [0]               # Array of input ports y positions (put 0 on first element to ignore this line) \n",
    "\n",
    "# If the lines above has to be ignored, use these ones instead: \n",
    "InP = 1 # Number of Input ports\n",
    "OutP = 2 # Number of Output ports\n",
    "Asy = 0 # Force asymmetry on inputs ports auto-displacement (0 -> Symetry, 1 -> Asymmetry)\n",
    "         \n",
    "PYSpan_in = 12e-6 # Input Port Y Span \n",
    "PYSpan_out = 3e-6 # Output Port Y Span \n",
    "\n",
    "\n",
    "# Tappers config---------------------------------\n",
    "SetToTappers = 1 # Set tappers as inputs/outputs\n",
    "TLen = 4e-6 # Tapper Length\n",
    "TWidth = 1e-6 # Tapper Width\n",
    "\n",
    "\n",
    "# Mesh config------------------------------------\n",
    "MeshEnableIn = 1 # enable input mesh insertion\n",
    "MeshEnableOut = 1 # enable output mesh insertion\n",
    "MeshType = 0 # 0 for Override, 1 for Multipler\n",
    "\n",
    "MeshOver = [[0.05e-6,0.05e-6,0.05e-6] , [0.05e-6,0.05e-6,0.05e-6]] # Override mesh value dx,dy and dz ([[Input Mesh],[Output Mesh]])\n",
    "MeshMultiplier = [[2,2,2] , [2,2,2]] # Mesh multipler value dx,dy and dz ([[Input Mesh],[Output Mesh]])\n",
    "\n",
    "\n",
    "# EME config-------------------------------------\n",
    "EME_MC = 150 # Number of EME Mesh Cells (Y and Z)\n",
    "SideCells = 3 # Number of Cells on Input/Output groups"
   ]
  },
  {
   "cell_type": "markdown",
   "metadata": {},
   "source": [
    "## Script Sweep parameters"
   ]
  },
  {
   "cell_type": "code",
   "execution_count": 21,
   "metadata": {},
   "outputs": [],
   "source": [
    "SPar = [2,3]; # Ports to analyse S parameters (SX1)\n",
    "\n",
    "TapperSweep = 1; # Enable tappers width sweep\n",
    "TSRange = [1.0e-6,1.4e-6]; # Tapper sweep range\n",
    "TSPoints = 2; # Tapper sweep number of points"
   ]
  },
  {
   "cell_type": "markdown",
   "metadata": {},
   "source": [
    "## Assembly"
   ]
  },
  {
   "cell_type": "code",
   "execution_count": 22,
   "metadata": {},
   "outputs": [],
   "source": [
    "# General & Body settings -----------------------------------\n",
    "\n",
    "mmi.switchtolayout()\n",
    "mmi.selectall()\n",
    "mmi.delete()\n",
    "\n",
    "TLen = TLen*SetToTappers\n",
    "\n",
    "if InMx[0] != 0:\n",
    "    InP = len(InMx)\n",
    "if OutMx[0] != 0:\n",
    "    OutP = len(OutMx)\n",
    "\n",
    "RectInsert(BdX_Span/2,BdX_Span, 0,BdY_Span, 0e-6,0.22e-6,\n",
    "\"Si (Silicon) - Palik\",mmi)\n",
    "mmi.set(\"name\",\"MMI Body\")\n",
    "\n",
    "# Input/Output ports setting --------------------------------\n",
    "\n",
    "for i in range(1,InP+1):\n",
    "    if(InMx[0]==0):\n",
    "        InY = (i/((Asy+1)*(InP+1))-0.5)*BdY_Span*(1-2*Asy)**i\n",
    "    else:\n",
    "        InY = InMx[i-1]\n",
    "    RectInsert(-TLen-2e-6,4e-6 , InY,0.45e-6, 0,0.22e-6,\n",
    "    \"Si (Silicon) - Palik\",mmi);\n",
    "    mmi.set(\"name\",\"MMI EnterPort \"+ str(i))\n",
    "\n",
    "for i in range(1,OutP+1):\n",
    "    if(OutMx[0]==0):\n",
    "        OutY = (i/(OutP+1)-0.5)*BdY_Span\n",
    "    else:\n",
    "        OutY = OutMx[i-1]\n",
    "    RectInsert(BdX_Span+TLen+2e-6,4e-6, OutY,0.45e-6, 0,0.22e-6,\n",
    "    \"Si (Silicon) - Palik\",mmi)\n",
    "    mmi.set(\"name\",\"MMI OutPort \"+ str(i))\n",
    "\n",
    "\n",
    "if(SetToTappers == 1):\n",
    "    for i in range(1,InP+1):\n",
    "        mmi.addobject(\"linear_taper\")\n",
    "        mmi.set({\"first axis\":\"z\", \"rotation 1\":180,\n",
    "             \"x\":-TLen/2, \"z\":0, \"len\":TLen,\n",
    "             \"thickness\":0.22e-6,\n",
    "             \"width_l\":TWidth,  \n",
    "             \"angle_side\":90,  \n",
    "             \"name\":\"Input Taper \"+ str(i)})\n",
    "        InY = mmi.getnamed(\"MMI EnterPort \"+ str(i),\"y\")\n",
    "        mmi.set(\"y\",InY)\n",
    "  \n",
    "    for i in range(1,OutP+1):\n",
    "        mmi.addobject(\"linear_taper\")\n",
    "        mmi.set({\"first axis\":\"z\", \"rotation 1\":0,\n",
    "             \"x\":BdX_Span+TLen/2, \"z\":0, \"len\":TLen,\n",
    "             \"thickness\":0.22e-6,\n",
    "             \"width_l\":TWidth, \n",
    "             \"angle_side\":90, \n",
    "             \"name\":\"Output Taper \"+ str(i)})\n",
    "        OutY = mmi.getnamed(\"MMI OutPort \"+ str(i),\"y\")\n",
    "        mmi.set(\"y\",OutY)\n",
    "\n",
    "\n",
    "# EME setting ----------------------------------------------\n",
    "mmi.addeme()\n",
    "\n",
    "mmi.set({\"allow custom eigensolver settings\":1 ,\"display cells\":1, \"number of cell groups\":3,\n",
    "         \"group spans\": np.transpose([(1.3*TLen+4e-6)/2, BdX_Span, (1.3*TLen+4e-6)/2]),\n",
    "         \"cells\":np.transpose([SideCells, 1, SideCells]),\n",
    "         \"subcell method\":np.transpose([1, 0, 0]), # 0 = none,  1 = CVCS\n",
    "         \"modes\":np.transpose([10, 50, 10])})\n",
    "\n",
    "mmi.set({\"x min\":(-1.3*TLen-4e-6)/2 ,\n",
    "     \"y\":0, \"y span\":1.4*BdY_Span,\n",
    "     \"z\":0, \"z span\":1e-6})\n",
    "\n",
    "mmi.set({\"y min bc\":\"PML\", \"y max bc\":\"PML\",\n",
    "     \"z min bc\":\"Symmetric\", \"z max bc\":\"PML\",\n",
    "     \"background material\": \"SiO2 (Glass) - Palik\",\n",
    "     \"mesh cells y\":EME_MC, \"mesh cells z\":EME_MC})\n",
    "\n",
    "\n",
    "# EME Ports setting -----------------------------------------\n",
    "mmi.selectpartial(\"EME::Ports::port\")\n",
    "mmi.delete()\n",
    "for i in range(1,InP+1):\n",
    "    mmi.addemeport()\n",
    "    InY = mmi.getnamed(\"MMI EnterPort \"+ str(i),\"y\")\n",
    "    mmi.set({\"use full simulation span\":0,\n",
    "    \"port location\":\"left\",\n",
    "    \"y\":InY, \"y span\":PYSpan_in,\n",
    "    \"z\":0, \"z span\":4e-6})\n",
    "  \n",
    "for i in range(1,OutP+1):\n",
    "    mmi.addemeport()\n",
    "    OutY = mmi.getnamed(\"MMI OutPort \"+ str(i),\"y\")\n",
    "    mmi.set({\"use full simulation span\":0,\n",
    "    \"port location\":\"right\",\n",
    "    \"y\":OutY, \"y span\":PYSpan_out,\n",
    "    \"z\":0, \"z span\":4e-6})  \n",
    "\n",
    "\n",
    "\n",
    "# Monitors setting ---------------------------------\n",
    "mmi.addemeprofile()\n",
    "mmi.set(\"x\", BdX_Span/2)\n",
    "mmi.set(\"x span\", BdX_Span+1.3*TLen+4e-6)\n",
    "mmi.set(\"y span\", 1.4*BdY_Span)\n",
    "\n",
    "    \n",
    "# Mesh setting -------------------------------------\n",
    "if(MeshEnableIn == 1):\n",
    "    for i in range(InP):\n",
    "        mmi.addmesh()\n",
    "        mmi.set({\"x\":-2e-6-TLen/4, \"x span\":4e-6 + TLen/2,\n",
    "                \"y span\":TWidth,\n",
    "                 \"z\":0, \"z span\":1e-6})\n",
    "        InY = mmi.getnamed(\"MMI EnterPort \"+ str(i+1),\"y\")\n",
    "        mmi.set(\"y\",InY)\n",
    "        mmi.set(\"name\",\"input_mesh \" + str(i+1))\n",
    "        if(MeshType == 0):\n",
    "            mmi.set({\"set maximum mesh step\":1 , \"dx\":MeshOver[0][0], \"dy\":MeshOver[0][1], \"dz\":MeshOver[0][2]})\n",
    "        else:\n",
    "            mmi.set({\"set mesh multiplier\":1, \"x mesh multiplier\":MeshMultiplier[0][0],\n",
    "                    \"y mesh multiplier\":MeshMultiplier[0][1], \"z mesh multiplier\":MeshMultiplier[0][2]})\n",
    "\n",
    "if(MeshEnableOut == 1):\n",
    "    for i in range(OutP):\n",
    "        mmi.addmesh()\n",
    "        mmi.set({\"x\":BdX_Span + 2e-6+TLen/4, \"x span\":4e-6 + TLen/2,\n",
    "                 \"y span\":TWidth,\n",
    "                 \"z\":0, \"z span\":1e-6})\n",
    "        OutY = mmi.getnamed(\"MMI OutPort \"+ str(i+1),\"y\")\n",
    "        mmi.set(\"y\",OutY)\n",
    "        mmi.set(\"name\",\"output_mesh \" + str(i+1))\n",
    "        if(MeshType == 0):\n",
    "            mmi.set({\"set maximum mesh step\":1 , \"dx\":MeshOver[1][0], \"dy\":MeshOver[1][1], \"dz\":MeshOver[1][2]}) \n",
    "        else:\n",
    "            mmi.set({\"set mesh multiplier\":1, \"x mesh multiplier\":MeshMultiplier[1][0], \n",
    "                    \"y mesh multiplier\":MeshMultiplier[1][1], \"z mesh multiplier\":MeshMultiplier[1][2]})\n"
   ]
  },
  {
   "cell_type": "markdown",
   "metadata": {},
   "source": [
    "## Lumerical Sweeps\n",
    "Load Sweeps from lumerical interface and extract here"
   ]
  },
  {
   "cell_type": "code",
   "execution_count": null,
   "metadata": {},
   "outputs": [],
   "source": [
    "\n",
    "parDictName = 'new_parameter' # Reference parameter dictionary key\n",
    "\n",
    "x = mmi.getsweepresult('SweepTest','new_result')\n",
    "print(x.keys())\n",
    "y = x['user s matrix']\n",
    "# print(np.shape(y))\n",
    "# print(y[:,:,0])\n",
    "\n",
    "S = np.zeros((np.size(x[parDictName]), 2))\n",
    "for i in range(np.size(x[parDictName])):\n",
    "    S[i,:] = abs(y[1:,0,i])**2\n",
    "\n",
    "X = list(x[parDictName])\n",
    "\n",
    "print(np.transpose(abs(S[:,0])**2))\n",
    "print(np.transpose(abs(S[:,1])**2))\n",
    "\n",
    "plt.plot(X[0], np.transpose(abs(S[:,0])**2),'-')\n",
    "plt.plot(X[0], np.transpose(abs(S[:,1])**2),'-')"
   ]
  },
  {
   "cell_type": "markdown",
   "metadata": {},
   "source": [
    "## Script Sweeps\n",
    "\n",
    "Using python to execute sweeps in lumerical, excrating its results right after"
   ]
  },
  {
   "cell_type": "markdown",
   "metadata": {},
   "source": [
    "### Tapper length sweep"
   ]
  },
  {
   "cell_type": "code",
   "execution_count": 23,
   "metadata": {},
   "outputs": [
    {
     "name": "stdout",
     "output_type": "stream",
     "text": [
      "Tapper width sweep in progress...\n",
      "Number of output ports found: 2\n",
      "Progress: 1/2\n",
      "Progress: 2/2\n"
     ]
    },
    {
     "name": "stderr",
     "output_type": "stream",
     "text": [
      "No artists with labels found to put in legend.  Note that artists whose label start with an underscore are ignored when legend() is called with no argument.\n"
     ]
    },
    {
     "data": {
      "image/png": "[encoded data removed]",
      "text/plain": [
       "<Figure size 864x576 with 1 Axes>"
      ]
     },
     "metadata": {
      "needs_background": "light"
     },
     "output_type": "display_data"
    }
   ],
   "source": [
    "SParSz = len(SPar)\n",
    "pMatrix = np.zeros((TSPoints,SParSz))\n",
    "kMatrix = np.zeros((TSPoints,SParSz))\n",
    "TRangeMatrix = np.linspace(TSRange[0],TSRange[1],TSPoints)\n",
    "\n",
    "if(TapperSweep == 1):\n",
    "    mmi.selectpartial(\"Output Taper\")\n",
    "    OutP = int(mmi.getnumber())\n",
    "    print(\"Tapper width sweep in progress...\")\n",
    "    print(\"Number of output ports found: \" + str(OutP))\n",
    "\n",
    "    for i in range(TSPoints):\n",
    "        text = \"Progress: \" + str(i+1) + \"/\" + str(TSPoints)\n",
    "        print(text);   \n",
    "        \n",
    "        mmi.switchtolayout()\n",
    "        for j in range(OutP):\n",
    "            mmi.setnamed(\"Output Taper \" +str(j+1),\n",
    "            \"width_l\",TRangeMatrix[i])\n",
    "        \n",
    "        mmi.run()\n",
    "        mmi.emepropagate()\n",
    "        \n",
    "        A = mmi.getresult(\"EME\",\"user s matrix\")\n",
    "        for j in range(SParSz):\n",
    "            pMatrix[i,j] = abs(A[SPar[j]-1,0])**2\n",
    "            kMatrix[i,j] = 20*np.log10(abs(A[SPar[j]-1,0]))\n",
    "\n",
    "    plt.rcParams[\"figure.figsize\"] = (12,8)\n",
    "    plt.legend(fontsize=12)\n",
    "    plt.xlabel('Tapper width (um)',fontsize=16)\n",
    "    plt.ylabel(r'Transmissão (abs$^{2}$)',fontsize=16)\n",
    "    plt.grid()\n",
    "\n",
    "    for i in range(SParSz):\n",
    "        if(i%2==0):\n",
    "            plt.plot(1e6*TRangeMatrix,np.transpose(pMatrix[:,i]), '-', label='Output 1', linewidth=2)\n",
    "        else:\n",
    "            plt.plot(1e6*TRangeMatrix,np.transpose(pMatrix[:,i]), '--',label='Output 2', linewidth=2)\n"
   ]
  },
  {
   "cell_type": "code",
   "execution_count": 15,
   "metadata": {},
   "outputs": [
    {
     "data": {
      "image/png": "[encoded data removed]",
      "text/plain": [
       "<Figure size 864x576 with 1 Axes>"
      ]
     },
     "metadata": {
      "needs_background": "light"
     },
     "output_type": "display_data"
    }
   ],
   "source": [
    "A = np.array([1,2,3,4,5,6,7,8,9,10])\n",
    "B = [2,3,4,9,11,8,7,5,12,2]\n",
    "\n",
    "plt.rcParams[\"figure.figsize\"] = (12,8)\n",
    "plt.ylabel(r'Transmissão (abs$^{2}$)', fontsize=16)\n",
    "plt.xlabel('Tapper width',fontsize=16)\n",
    "plt.plot(A,10*A)\n",
    "plt.grid()"
   ]
  },
  {
   "cell_type": "markdown",
   "metadata": {},
   "source": [
    "### Mesh sweep"
   ]
  },
  {
   "cell_type": "code",
   "execution_count": null,
   "metadata": {},
   "outputs": [],
   "source": []
  }
 ],
 "metadata": {
  "interpreter": {
   "hash": "916dbcbb3f70747c44a77c7bcd40155683ae19c65e1c03b4aa3499c5328201f1"
  },
  "kernelspec": {
   "display_name": "Python 3.8.10 64-bit",
   "language": "python",
   "name": "python3"
  },
  "language_info": {
   "codemirror_mode": {
    "name": "ipython",
    "version": 3
   },
   "file_extension": ".py",
   "mimetype": "text/x-python",
   "name": "python",
   "nbconvert_exporter": "python",
   "pygments_lexer": "ipython3",
   "version": "3.8.10"
  },
  "orig_nbformat": 4
 },
 "nbformat": 4,
 "nbformat_minor": 2
}
