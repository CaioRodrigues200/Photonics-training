{
 "cells": [
  {
   "cell_type": "code",
   "execution_count": 82,
   "metadata": {},
   "outputs": [],
   "source": [
    "import os\n",
    "import imp\n",
    "import matplotlib.pyplot as plt\n",
    "import numpy as np\n",
    "import math\n",
    "import pandas as pd\n",
    "import sys\n",
    "import pickle"
   ]
  },
  {
   "cell_type": "code",
   "execution_count": 83,
   "metadata": {},
   "outputs": [],
   "source": [
    "sys.path.append(\"/opt/lumerical/v221/api/python\") #Default linux lumapi path\n",
    "import lumapi\n",
    "sys.path.append(os.path.dirname('/home/trainner/Documents/GitHub/Photonics-training/Projects/MMI/Lumerical files')) #Current directory\n",
    "\n",
    "#os.add_dll_directory('C:\\\\Program Files\\\\Lumerical\\\\v202\\\\api\\\\python\\\\')\n",
    "#lumapi = imp.load_source('lumapi','C:\\\\Program Files\\\\Lumerical\\\\v202\\\\api\\\\python\\\\lumapi.py') "
   ]
  },
  {
   "cell_type": "code",
   "execution_count": 84,
   "metadata": {},
   "outputs": [],
   "source": [
    "mmi = lumapi.MODE(filename=\"MMIProject.lms\") "
   ]
  },
  {
   "cell_type": "markdown",
   "metadata": {},
   "source": [
    "## Functions"
   ]
  },
  {
   "cell_type": "code",
   "execution_count": null,
   "metadata": {},
   "outputs": [],
   "source": [
    "def RectInsert(X,XSPAN,Y,YSPAN,Z,ZSPAN,MATERIAL,lumerical):\n",
    "    \n",
    "    lumerical.switchtolayout()\n",
    "    lumerical.addrect()\n",
    "    lumerical.set({\"x\":X,\"y\":Y,\"z\":Z,\n",
    "         \"x span\":XSPAN, \"y span\":YSPAN, \"z span\":ZSPAN,\n",
    "         \"material\":MATERIAL\n",
    "        })"
   ]
  },
  {
   "cell_type": "markdown",
   "metadata": {},
   "source": [
    "## Assembly parameters"
   ]
  },
  {
   "cell_type": "code",
   "execution_count": null,
   "metadata": {},
   "outputs": [],
   "source": [
    "# Body config------------------------------------\n",
    "BdX_Span = 31.87e-6; # Body X Span\n",
    "BdY_Span = 6e-6; # Body y Span\n",
    "\n",
    "\n",
    "# Ports config-----------------------------------\n",
    "\n",
    "OutMx = [1.6e-6,-1.6e-6]; # Array of output ports y positions (put 0 on first element to ignore this line)\n",
    "InMx = [0];               # Array of input ports y positions (put 0 on first element to ignore this line) \n",
    "\n",
    "# If the lines above has to be ignored, use these ones instead: \n",
    "InP = 1; # Number of Input ports\n",
    "OutP = 2; # Number of Output ports\n",
    "Asy = 0; # Force asymmetry on inputs ports auto-displacement (0 -> Symetry, 1 -> Asymmetry)\n",
    "         \n",
    "PYSpan_in = 12e-6; # Input Port Y Span \n",
    "PYSpan_out = 3e-6; # Output Port Y Span \n",
    "\n",
    "\n",
    "# Tappers config---------------------------------\n",
    "SetToTappers = 1; # Set tappers as inputs/outputs\n",
    "TLen = 4e-6; # Tapper Length\n",
    "TWidth = 1e-6; # Tapper Width\n",
    "\n",
    "\n",
    "# Mesh config------------------------------------\n",
    "MeshEnable = 0; # 1 for enable mesh insertion\n",
    "\n",
    "\n",
    "# EME config-------------------------------------\n",
    "EME_MC = 100; # Number of EME Mesh Cells (Y and Z)\n",
    "SideCells = 3; # Number of Cells on Input/Output groups"
   ]
  },
  {
   "cell_type": "markdown",
   "metadata": {},
   "source": [
    "## Sweep parameters"
   ]
  },
  {
   "cell_type": "code",
   "execution_count": null,
   "metadata": {},
   "outputs": [],
   "source": [
    "SPar = [2,3]; # Ports to analyse S parameters (SX1)\n",
    "\n",
    "TapperSweep = 1; # Enable tappers width sweep\n",
    "TSRange = [1.05e-6,1.4e-6]; # Tapper sweep range\n",
    "TSPoints = 2; # Tapper sweep number of points"
   ]
  },
  {
   "cell_type": "markdown",
   "metadata": {},
   "source": [
    "## Assembly"
   ]
  },
  {
   "cell_type": "code",
   "execution_count": null,
   "metadata": {},
   "outputs": [],
   "source": [
    "# General & Body settings -----------------------------------\n",
    "\n",
    "mmi.switchtolayout()\n",
    "mmi.selectall()\n",
    "mmi.delete()\n",
    "\n",
    "TLen = TLen*SetToTappers\n",
    "\n",
    "if InMx[0] != 0:\n",
    "    InP = len(InMx)\n",
    "if OutMx[0] != 0:\n",
    "    OutP = len(OutMx)\n",
    "\n",
    "RectInsert(BdX_Span/2,BdX_Span, 0,BdY_Span, 0e-6,0.22e-6,\n",
    "\"Si (Silicon) - Palik\",mmi)\n",
    "mmi.set(\"name\",\"MMI Body\")\n",
    "\n",
    "# Input/Output ports setting --------------------------------\n",
    "\n",
    "for i in range(1,InP+1):\n",
    "    if(InMx[0]==0):\n",
    "        InY = (i/((Asy+1)*(InP+1))-0.5)*BdY_Span*(1-2*Asy)**i\n",
    "    else:\n",
    "        InY = InMx[i-1]\n",
    "    RectInsert(-TLen-2e-6,4e-6 , InY,0.45e-6, 0,0.22e-6,\n",
    "    \"Si (Silicon) - Palik\",mmi);\n",
    "    mmi.set(\"name\",\"MMI EnterPort \"+ str(i))\n",
    "\n",
    "for i in range(1,OutP+1):\n",
    "    if(OutMx[0]==0):\n",
    "        OutY = (i/(OutP+1)-0.5)*BdY_Span\n",
    "    else:\n",
    "        OutY = OutMx[i-1]\n",
    "    RectInsert(BdX_Span+TLen+2e-6,4e-6, OutY,0.45e-6, 0,0.22e-6,\n",
    "    \"Si (Silicon) - Palik\",mmi)\n",
    "    mmi.set(\"name\",\"MMI OutPort \"+ str(i))\n",
    "\n",
    "\n",
    "if(SetToTappers == 1):\n",
    "    for i in range(1,InP+1):\n",
    "        mmi.addobject(\"linear_taper\")\n",
    "        mmi.set({\"first axis\":\"z\", \"rotation 1\":180,\n",
    "             \"x\":-TLen/2, \"z\":0, \"len\":TLen,\n",
    "             \"thickness\":0.22e-6,\n",
    "             \"width_l\":TWidth,  \n",
    "             \"angle_side\":90,  \n",
    "             \"name\":\"Input Taper \"+ str(i)})\n",
    "        InY = mmi.getnamed(\"MMI EnterPort \"+ str(i),\"y\")\n",
    "        mmi.set(\"y\",InY)\n",
    "  \n",
    "    for i in range(1,OutP+1):\n",
    "        mmi.addobject(\"linear_taper\")\n",
    "        mmi.set({\"first axis\":\"z\", \"rotation 1\":0,\n",
    "             \"x\":BdX_Span+TLen/2, \"z\":0, \"len\":TLen,\n",
    "             \"thickness\":0.22e-6,\n",
    "             \"width_l\":TWidth, \n",
    "             \"angle_side\":90, \n",
    "             \"name\":\"Output Taper \"+ str(i)})\n",
    "        OutY = mmi.getnamed(\"MMI OutPort \"+ str(i),\"y\")\n",
    "        mmi.set(\"y\",OutY)\n",
    "\n",
    "\n",
    "# EME setting ----------------------------------------------\n",
    "mmi.addeme()\n",
    "\n",
    "mmi.set({\"allow custom eigensolver settings\":1 ,\"display cells\":1, \"number of cell groups\":3,\n",
    "         \"group spans\": np.transpose([(1.3*TLen+4e-6)/2, BdX_Span, (1.3*TLen+4e-6)/2]),\n",
    "         \"cells\":np.transpose([SideCells, 1, SideCells]),\n",
    "         \"subcell method\":np.transpose([1, 0, 0]), # 0 = none,  1 = CVCS\n",
    "         \"modes\":np.transpose([10, 50, 10])})\n",
    "\n",
    "mmi.set({\"x min\":(-1.3*TLen-4e-6)/2 ,\n",
    "     \"y\":0, \"y span\":1.4*BdY_Span,\n",
    "     \"z\":0, \"z span\":4e-6})\n",
    "\n",
    "mmi.set({\"y min bc\":\"PML\", \"y max bc\":\"PML\",\n",
    "     \"z min bc\":\"Symmetric\", \"z max bc\":\"PML\",\n",
    "     \"background material\": \"SiO2 (Glass) - Palik\",\n",
    "     \"mesh cells y\":EME_MC, \"mesh cells z\":EME_MC})\n",
    "\n",
    "\n",
    "# EME Ports setting -----------------------------------------\n",
    "mmi.selectpartial(\"EME::Ports::port\")\n",
    "mmi.delete()\n",
    "for i in range(1,InP+1):\n",
    "    mmi.addemeport()\n",
    "    InY = mmi.getnamed(\"MMI EnterPort \"+ str(i),\"y\")\n",
    "    mmi.set({\"use full simulation span\":0,\n",
    "    \"port location\":\"left\",\n",
    "    \"y\":InY, \"y span\":PYSpan_in,\n",
    "    \"z\":0, \"z span\":4e-6})\n",
    "  \n",
    "for i in range(1,OutP+1):\n",
    "    mmi.addemeport()\n",
    "    OutY = mmi.getnamed(\"MMI OutPort \"+ str(i),\"y\")\n",
    "    mmi.set({\"use full simulation span\":0,\n",
    "    \"port location\":\"right\",\n",
    "    \"y\":OutY, \"y span\":PYSpan_out,\n",
    "    \"z\":0, \"z span\":4e-6})  \n",
    "\n",
    "\n",
    "\n",
    "# Monitors setting ---------------------------------\n",
    "mmi.addemeprofile()\n",
    "mmi.set(\"x\", BdX_Span/2)\n",
    "mmi.set(\"x span\", BdX_Span+1.3*TLen+4e-6)\n",
    "mmi.set(\"y span\", 1.4*BdY_Span)\n",
    "\n",
    "    \n",
    "# Mesh setting -------------------------------------\n",
    "if(MeshEnable == 1):\n",
    "    mmi.addmesh()\n",
    "    mmi.set({\"x\":-2e-6, \"x span\":0,\n",
    "        \"y\":0, \"y span\":BdY_Span,\n",
    "        \"z\":0, \"z span\":4e-6})\n",
    "    mmi.set(\"name\",\"input_mesh\")\n",
    "    \n",
    "    mmi.addmesh()\n",
    "    mmi.set({\"x\":BdX_Span+2e-6, \"x span\":0,\n",
    "        \"y\":0, \"y span\":BdY_Span,\n",
    "        \"z\":0, \"z span\":4e-6})\n",
    "    mmi.set(\"name\",\"output_mesh\")\n"
   ]
  },
  {
   "cell_type": "markdown",
   "metadata": {},
   "source": [
    "## Sweeps"
   ]
  },
  {
   "cell_type": "markdown",
   "metadata": {},
   "source": [
    "### Tapper length sweep"
   ]
  },
  {
   "cell_type": "code",
   "execution_count": null,
   "metadata": {},
   "outputs": [
    {
     "name": "stdout",
     "output_type": "stream",
     "text": [
      "[[10]\n",
      " [ 2]]\n",
      "[-10.  -5.   0.   5.  10.]\n",
      "[[1]\n",
      " [3]\n",
      " [4]\n",
      " [5]\n",
      " [6]]\n",
      "[[8]\n",
      " [6]\n",
      " [3]\n",
      " [2]\n",
      " [1]]\n"
     ]
    },
    {
     "data": {
      "text/plain": [
       "[<matplotlib.lines.Line2D at 0x7fd2519e3280>]"
      ]
     },
     "execution_count": 74,
     "metadata": {},
     "output_type": "execute_result"
    },
    {
     "data": {
      "image/png": "[encoded data removed]",
      "text/plain": [
       "<Figure size 432x288 with 1 Axes>"
      ]
     },
     "metadata": {
      "needs_background": "light"
     },
     "output_type": "display_data"
    }
   ],
   "source": [
    "A = [2,3,4,5]\n",
    "B = np.matrix('1,10,100,1000 ; 1,2,3,4')\n",
    "\n",
    "print(B[:,1])\n",
    "\n",
    "\n",
    "x = np.linspace(-10, 10, 5)\n",
    "y1 = np.matrix('1;3;4;5;6')\n",
    "y2 = np.matrix('8;6;3;2;1')\n",
    "print(x)\n",
    "print(y1)\n",
    "print(y2)\n",
    "\n",
    "plt.plot(x, y1, color='red', lw=5)\n",
    "plt.plot(x, y2, color='orange', lw=7)"
   ]
  },
  {
   "cell_type": "code",
   "execution_count": null,
   "metadata": {},
   "outputs": [
    {
     "ename": "LumApiError",
     "evalue": "'Operation on closed application'",
     "output_type": "error",
     "traceback": [
      "\u001b[0;31m---------------------------------------------------------------------------\u001b[0m",
      "\u001b[0;31mLumApiError\u001b[0m                               Traceback (most recent call last)",
      "\u001b[1;32m/home/trainner/Documents/GitHub/Photonics-training/Projects/MMI/Lumerical files/MMILumapi.ipynb Cell 15'\u001b[0m in \u001b[0;36m<cell line: 6>\u001b[0;34m()\u001b[0m\n\u001b[1;32m      <a href='vscode-notebook-cell:/home/trainner/Documents/GitHub/Photonics-training/Projects/MMI/Lumerical%20files/MMILumapi.ipynb#ch0000013?line=3'>4</a>\u001b[0m TRangeMatrix \u001b[39m=\u001b[39m np\u001b[39m.\u001b[39mlinspace(TSRange[\u001b[39m0\u001b[39m],TSRange[\u001b[39m1\u001b[39m],TSPoints)\n\u001b[1;32m      <a href='vscode-notebook-cell:/home/trainner/Documents/GitHub/Photonics-training/Projects/MMI/Lumerical%20files/MMILumapi.ipynb#ch0000013?line=5'>6</a>\u001b[0m \u001b[39mif\u001b[39;00m(TapperSweep \u001b[39m==\u001b[39m \u001b[39m1\u001b[39m):\n\u001b[0;32m----> <a href='vscode-notebook-cell:/home/trainner/Documents/GitHub/Photonics-training/Projects/MMI/Lumerical%20files/MMILumapi.ipynb#ch0000013?line=6'>7</a>\u001b[0m     mmi\u001b[39m.\u001b[39;49mselectpartial(\u001b[39m\"\u001b[39;49m\u001b[39mOutput Taper\u001b[39;49m\u001b[39m\"\u001b[39;49m)\n\u001b[1;32m      <a href='vscode-notebook-cell:/home/trainner/Documents/GitHub/Photonics-training/Projects/MMI/Lumerical%20files/MMILumapi.ipynb#ch0000013?line=7'>8</a>\u001b[0m     OutP \u001b[39m=\u001b[39m \u001b[39mint\u001b[39m(mmi\u001b[39m.\u001b[39mgetnumber())\n\u001b[1;32m      <a href='vscode-notebook-cell:/home/trainner/Documents/GitHub/Photonics-training/Projects/MMI/Lumerical%20files/MMILumapi.ipynb#ch0000013?line=8'>9</a>\u001b[0m     \u001b[39mprint\u001b[39m(\u001b[39m\"\u001b[39m\u001b[39mTapper width sweep in progress...\u001b[39m\u001b[39m\"\u001b[39m)\n",
      "File \u001b[0;32m/opt/lumerical/v221/api/python/lumapi.py:1153\u001b[0m, in \u001b[0;36mLumerical.__init__.<locals>.<lambda>\u001b[0;34m(self, *args)\u001b[0m\n\u001b[1;32m   <a href='file:///opt/lumerical/v221/api/python/lumapi.py?line=1149'>1150</a>\u001b[0m     method \u001b[39m=\u001b[39m (\u001b[39mlambda\u001b[39;00m x: \u001b[39mlambda\u001b[39;00m \u001b[39mself\u001b[39m, \u001b[39m*\u001b[39margs, \u001b[39m*\u001b[39m\u001b[39m*\u001b[39mkwargs:\n\u001b[1;32m   <a href='file:///opt/lumerical/v221/api/python/lumapi.py?line=1150'>1151</a>\u001b[0m     appCallWithConstructor(\u001b[39mself\u001b[39m, x, args, \u001b[39m*\u001b[39m\u001b[39m*\u001b[39mkwargs))(name)\n\u001b[1;32m   <a href='file:///opt/lumerical/v221/api/python/lumapi.py?line=1151'>1152</a>\u001b[0m \u001b[39melse\u001b[39;00m:\n\u001b[0;32m-> <a href='file:///opt/lumerical/v221/api/python/lumapi.py?line=1152'>1153</a>\u001b[0m     method \u001b[39m=\u001b[39m (\u001b[39mlambda\u001b[39;00m x: \u001b[39mlambda\u001b[39;00m \u001b[39mself\u001b[39m, \u001b[39m*\u001b[39margs: appCall(\u001b[39mself\u001b[39;49m, x, args))(name)\n\u001b[1;32m   <a href='file:///opt/lumerical/v221/api/python/lumapi.py?line=1153'>1154</a>\u001b[0m method\u001b[39m.\u001b[39m\u001b[39m__name__\u001b[39m \u001b[39m=\u001b[39m \u001b[39mstr\u001b[39m(name)\n\u001b[1;32m   <a href='file:///opt/lumerical/v221/api/python/lumapi.py?line=1154'>1155</a>\u001b[0m \u001b[39mtry\u001b[39;00m:\n",
      "File \u001b[0;32m/opt/lumerical/v221/api/python/lumapi.py:761\u001b[0m, in \u001b[0;36mappCall\u001b[0;34m(self, name, *args)\u001b[0m\n\u001b[1;32m    <a href='file:///opt/lumerical/v221/api/python/lumapi.py?line=752'>753</a>\u001b[0m \u001b[39mdef\u001b[39;00m \u001b[39mappCall\u001b[39m(\u001b[39mself\u001b[39m, name, \u001b[39m*\u001b[39margs):\n\u001b[1;32m    <a href='file:///opt/lumerical/v221/api/python/lumapi.py?line=753'>754</a>\u001b[0m     \u001b[39m\"\"\"Calls a function in Lumerical script\u001b[39;00m\n\u001b[1;32m    <a href='file:///opt/lumerical/v221/api/python/lumapi.py?line=754'>755</a>\u001b[0m \n\u001b[1;32m    <a href='file:///opt/lumerical/v221/api/python/lumapi.py?line=755'>756</a>\u001b[0m \u001b[39m    This function calls the named Lumerical script function passing\u001b[39;00m\n\u001b[0;32m   (...)\u001b[0m\n\u001b[1;32m    <a href='file:///opt/lumerical/v221/api/python/lumapi.py?line=758'>759</a>\u001b[0m \u001b[39m    value of the Lumerical script function is returned\u001b[39;00m\n\u001b[1;32m    <a href='file:///opt/lumerical/v221/api/python/lumapi.py?line=759'>760</a>\u001b[0m \u001b[39m    \"\"\"\u001b[39;00m\n\u001b[0;32m--> <a href='file:///opt/lumerical/v221/api/python/lumapi.py?line=760'>761</a>\u001b[0m     verifyConnection(\u001b[39mself\u001b[39;49m\u001b[39m.\u001b[39;49mhandle)\n\u001b[1;32m    <a href='file:///opt/lumerical/v221/api/python/lumapi.py?line=762'>763</a>\u001b[0m     vname \u001b[39m=\u001b[39m \u001b[39m'\u001b[39m\u001b[39minternal_lum_script_\u001b[39m\u001b[39m'\u001b[39m \u001b[39m+\u001b[39m \u001b[39mstr\u001b[39m(np\u001b[39m.\u001b[39mrandom\u001b[39m.\u001b[39mrandint(\u001b[39m10000\u001b[39m, \u001b[39m100000\u001b[39m))\n\u001b[1;32m    <a href='file:///opt/lumerical/v221/api/python/lumapi.py?line=763'>764</a>\u001b[0m     vin \u001b[39m=\u001b[39m vname \u001b[39m+\u001b[39m \u001b[39m'\u001b[39m\u001b[39mi\u001b[39m\u001b[39m'\u001b[39m\n",
      "File \u001b[0;32m/opt/lumerical/v221/api/python/lumapi.py:194\u001b[0m, in \u001b[0;36mverifyConnection\u001b[0;34m(handle)\u001b[0m\n\u001b[1;32m    <a href='file:///opt/lumerical/v221/api/python/lumapi.py?line=191'>192</a>\u001b[0m \u001b[39mdef\u001b[39;00m \u001b[39mverifyConnection\u001b[39m(handle):\n\u001b[1;32m    <a href='file:///opt/lumerical/v221/api/python/lumapi.py?line=192'>193</a>\u001b[0m     \u001b[39mif\u001b[39;00m \u001b[39mnot\u001b[39;00m iapi\u001b[39m.\u001b[39mappOpened(handle):\n\u001b[0;32m--> <a href='file:///opt/lumerical/v221/api/python/lumapi.py?line=193'>194</a>\u001b[0m         \u001b[39mraise\u001b[39;00m LumApiError(\u001b[39m\"\u001b[39m\u001b[39mOperation on closed application\u001b[39m\u001b[39m\"\u001b[39m)\n",
      "\u001b[0;31mLumApiError\u001b[0m: 'Operation on closed application'"
     ]
    }
   ],
   "source": [
    "SParSz = len(SPar)\n",
    "pMatrix = np.zeros((TSPoints,SParSz))\n",
    "dMatrix = np.zeros((TSPoints,SParSz))\n",
    "TRangeMatrix = np.linspace(TSRange[0],TSRange[1],TSPoints)\n",
    "\n",
    "if(TapperSweep == 1):\n",
    "    mmi.selectpartial(\"Output Taper\")\n",
    "    OutP = int(mmi.getnumber())\n",
    "    print(\"Tapper width sweep in progress...\")\n",
    "    print(\"Number of output ports found: \" + str(OutP))\n",
    "\n",
    "    for i in range(TSPoints):\n",
    "        text = \"Progress: \" + str(i+1) + \"/\" + str(TSPoints)\n",
    "        print(text);   \n",
    "        \n",
    "        mmi.switchtolayout()\n",
    "        for j in range(OutP):\n",
    "            mmi.setnamed(\"Output Taper \" +str(j+1),\n",
    "            \"width_l\",TRangeMatrix[i])\n",
    "        \n",
    "        mmi.run()\n",
    "        mmi.emepropagate()\n",
    "        \n",
    "        A = mmi.getresult(\"EME\",\"user s matrix\")\n",
    "        print(abs(A)**2)\n",
    "        for j in range(SParSz):\n",
    "            print(abs(A[SPar[j]-1,0])**2)\n",
    "            print('---------------------')\n",
    "            pMatrix[i,j] = abs(A[SPar[j]-1,0])**2\n",
    "            dMatrix[i,j] = 20*np.log10(abs(A[SPar[j]-1,0]))\n",
    "    \n",
    "    print('-.-.-.-.-.-.-')\n",
    "    print(pMatrix)\n",
    "    print('-.-.-.-.-.-.-')\n",
    "    for i in range(SParSz):\n",
    "        plt.plot(TRangeMatrix,pMatrix[:,i])\n",
    "        print(TRangeMatrix)\n",
    "        print(pMatrix[:,i])\n",
    "\n",
    "    \n",
    "    # mmi.closeall()\n",
    "    # P = mmi.matrixdataset(\"S parameters in Abs^2\")\n",
    "    # D = mmi.matrixdataset(\"S parameters in dB\")\n",
    "    # P.addparameter(\"Tapper width\",TRangeMatrix)\n",
    "    # D.addparameter(\"Tapper width\",TRangeMatrix) \n",
    "    # for i in range(SParSz):\n",
    "    #     X = np.matrix(pMatrix[0:TSPoints, i])\n",
    "    #     Y = np.matrix(dMatrix[0:TSPoints, i])\n",
    "    #     mmi.P.addattribute(\"S\"+str(SPar[i])+\"1\" ,X)\n",
    "    #     mmi.D.addattribute(\"S\"+str(SPar[i])+\"1\" ,Y)\n",
    "    \n",
    "    # mmi.visualize(P)\n",
    "    # mmi.visualize(D)\n"
   ]
  },
  {
   "cell_type": "code",
   "execution_count": null,
   "metadata": {},
   "outputs": [],
   "source": []
  }
 ],
 "metadata": {
  "interpreter": {
   "hash": "916dbcbb3f70747c44a77c7bcd40155683ae19c65e1c03b4aa3499c5328201f1"
  },
  "kernelspec": {
   "display_name": "Python 3.8.10 64-bit",
   "language": "python",
   "name": "python3"
  },
  "language_info": {
   "codemirror_mode": {
    "name": "ipython",
    "version": 3
   },
   "file_extension": ".py",
   "mimetype": "text/x-python",
   "name": "python",
   "nbconvert_exporter": "python",
   "pygments_lexer": "ipython3",
   "version": "3.8.10"
  },
  "orig_nbformat": 4
 },
 "nbformat": 4,
 "nbformat_minor": 2
}
