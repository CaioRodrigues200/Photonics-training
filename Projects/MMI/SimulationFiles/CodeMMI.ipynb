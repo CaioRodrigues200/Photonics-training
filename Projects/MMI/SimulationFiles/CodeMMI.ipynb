{
 "cells": [
  {
   "cell_type": "code",
   "execution_count": 86,
   "metadata": {},
   "outputs": [],
   "source": [
    "import numpy as np\n",
    "import matplotlib.pyplot as plt\n",
    "import pandas\n",
    "from IPython.display import display, Math"
   ]
  },
  {
   "cell_type": "code",
   "execution_count": 87,
   "metadata": {},
   "outputs": [],
   "source": [
    "n_c = 1.444\n",
    "n_r = 3.476\n",
    "lambda_0 = 1547.5e-9\n",
    "k_0 = 2*np.pi/lambda_0\n",
    "W_m = 10.0e-6\n",
    "c0 = 299792458\n",
    "N = 4 # Number of ports"
   ]
  },
  {
   "cell_type": "code",
   "execution_count": 88,
   "metadata": {},
   "outputs": [
    {
     "name": "stdout",
     "output_type": "stream",
     "text": [
      "1.015578885371305e-05\n"
     ]
    }
   ],
   "source": [
    "sigma = 0 #TE mode\n",
    "We = W_m + (lambda_0/np.pi)*((n_c/n_r)**(2*sigma)) * (n_r**2 - n_c**2)**(-0.5)\n",
    "print(We)"
   ]
  },
  {
   "cell_type": "code",
   "execution_count": 89,
   "metadata": {},
   "outputs": [],
   "source": [
    "neff_app = np.zeros(5)\n",
    "for i in range(5):\n",
    "    neff_app[i] = n_r - ((i+1)**2 * np.pi * lambda_0)/(We**2*4*n_r*k_0)\n",
    "    k_c = (i+1)*np.pi/We"
   ]
  },
  {
   "attachments": {},
   "cell_type": "markdown",
   "metadata": {},
   "source": [
    "## Lpi calculation methods"
   ]
  },
  {
   "cell_type": "code",
   "execution_count": 90,
   "metadata": {},
   "outputs": [
    {
     "data": {
      "text/latex": [
       "$\\displaystyle L_{\\pi} = 231.67~um$"
      ],
      "text/plain": [
       "<IPython.core.display.Math object>"
      ]
     },
     "metadata": {},
     "output_type": "display_data"
    },
    {
     "data": {
      "text/latex": [
       "$\\displaystyle L_{\\pi} = 231.67~um$"
      ],
      "text/plain": [
       "<IPython.core.display.Math object>"
      ]
     },
     "metadata": {},
     "output_type": "display_data"
    },
    {
     "data": {
      "text/latex": [
       "$\\displaystyle \\dfrac{3}{2}L_{\\pi} = 347.51~um , \\quad \\dfrac{3}{4}L_{\\pi} = 173.76~um , \\quad \\dfrac{3}{8}L_{\\pi} = 86.88~um$"
      ],
      "text/plain": [
       "<IPython.core.display.Math object>"
      ]
     },
     "metadata": {},
     "output_type": "display_data"
    }
   ],
   "source": [
    "# Method 1\n",
    "L_pi_app = (2*np.pi/(neff_app[0] - neff_app[2]))/k_0\n",
    "display(Math('L_{\\pi} = %5.2f~um' %(1e6*L_pi_app)))\n",
    "\n",
    "# Method 2\n",
    "L_pi_app = n_r * (We**2)/lambda_0\n",
    "display(Math('L_{\\pi} = %5.2f~um' %(1e6*L_pi_app)))\n",
    "\n",
    "display(Math('\\dfrac{3}{2}L_{\\pi} = %5.2f~um , \\quad \\dfrac{3}{4}L_{\\pi} = %5.2f~um , \\quad \\dfrac{3}{8}L_{\\pi} = %5.2f~um' \n",
    "%(1e6*3/2*L_pi_app , 1e6*3/4*L_pi_app , 1e6*3/8*L_pi_app)))"
   ]
  },
  {
   "cell_type": "code",
   "execution_count": 91,
   "metadata": {},
   "outputs": [
    {
     "data": {
      "text/latex": [
       "$\\displaystyle L_{\\pi} = 308.90~um$"
      ],
      "text/plain": [
       "<IPython.core.display.Math object>"
      ]
     },
     "metadata": {},
     "output_type": "display_data"
    },
    {
     "data": {
      "text/latex": [
       "$\\displaystyle \\dfrac{3}{2}L_{\\pi} = 463.35~um , \\quad \\dfrac{3}{4}L_{\\pi} = 231.67~um , \\quad \\dfrac{3}{8}L_{\\pi} = 115.84~um$"
      ],
      "text/plain": [
       "<IPython.core.display.Math object>"
      ]
     },
     "metadata": {},
     "output_type": "display_data"
    }
   ],
   "source": [
    "# Method 3\n",
    "L_pi_app = np.pi / (k_0*(neff_app[0]-neff_app[1]))\n",
    "display(Math('L_{\\pi} = %5.2f~um' %(1e6*L_pi_app)))\n",
    "\n",
    "display(Math('\\dfrac{3}{2}L_{\\pi} = %5.2f~um , \\quad \\dfrac{3}{4}L_{\\pi} = %5.2f~um , \\quad \\dfrac{3}{8}L_{\\pi} = %5.2f~um' \n",
    "%(1e6*3/2*L_pi_app , 1e6*3/4*L_pi_app , 1e6*3/8*L_pi_app)))"
   ]
  },
  {
   "cell_type": "code",
   "execution_count": 92,
   "metadata": {},
   "outputs": [
    {
     "data": {
      "text/latex": [
       "$\\displaystyle L_{\\pi} = 299.49~um$"
      ],
      "text/plain": [
       "<IPython.core.display.Math object>"
      ]
     },
     "metadata": {},
     "output_type": "display_data"
    },
    {
     "data": {
      "text/latex": [
       "$\\displaystyle \\dfrac{3}{2}L_{\\pi} = 449.24~um , \\quad \\dfrac{3}{4}L_{\\pi} = 224.62~um , \\quad \\dfrac{3}{8}L_{\\pi} = 112.31~um$"
      ],
      "text/plain": [
       "<IPython.core.display.Math object>"
      ]
     },
     "metadata": {},
     "output_type": "display_data"
    }
   ],
   "source": [
    "# Method 4\n",
    "L_pi_app = np.pi / (3* np.pi**2 / (2*n_r*k_0*W_m**2))\n",
    "display(Math('L_{\\pi} = %5.2f~um' %(1e6*L_pi_app)))\n",
    "\n",
    "display(Math('\\dfrac{3}{2}L_{\\pi} = %5.2f~um , \\quad \\dfrac{3}{4}L_{\\pi} = %5.2f~um , \\quad \\dfrac{3}{8}L_{\\pi} = %5.2f~um' \n",
    "%(1e6*3/2*L_pi_app , 1e6*3/4*L_pi_app , 1e6*3/8*L_pi_app)))"
   ]
  },
  {
   "attachments": {},
   "cell_type": "markdown",
   "metadata": {},
   "source": [
    "### MODE simulation Method\n",
    "\n",
    "Using MODE calculated parameters (Most correct one so far)"
   ]
  },
  {
   "cell_type": "code",
   "execution_count": 93,
   "metadata": {},
   "outputs": [
    {
     "data": {
      "text/latex": [
       "$\\displaystyle L_{\\pi} = 244.24~um$"
      ],
      "text/plain": [
       "<IPython.core.display.Math object>"
      ]
     },
     "metadata": {},
     "output_type": "display_data"
    },
    {
     "data": {
      "text/latex": [
       "$\\displaystyle \\dfrac{3}{2}L_{\\pi} = 366.36~um , \\quad \\dfrac{3}{4}L_{\\pi} = 183.18~um , \\quad \\dfrac{3}{8}L_{\\pi} = 91.59~um$"
      ],
      "text/plain": [
       "<IPython.core.display.Math object>"
      ]
     },
     "metadata": {},
     "output_type": "display_data"
    }
   ],
   "source": [
    "beta0 = 2.830656 * 2*np.pi/(lambda_0)\n",
    "beta1 = 2.827488 * 2*np.pi/(lambda_0)\n",
    "\n",
    "L_pi_app = np.pi / (beta0 - beta1)\n",
    "display(Math('L_{\\pi} = %5.2f~um' %(1e6*L_pi_app)))\n",
    "\n",
    "display(Math('\\dfrac{3}{2}L_{\\pi} = %5.2f~um , \\quad \\dfrac{3}{4}L_{\\pi} = %5.2f~um , \\quad \\dfrac{3}{8}L_{\\pi} = %5.2f~um' \n",
    "%(1e6*3/2*L_pi_app , 1e6*3/4*L_pi_app , 1e6*3/8*L_pi_app)))"
   ]
  },
  {
   "cell_type": "code",
   "execution_count": 94,
   "metadata": {},
   "outputs": [
    {
     "data": {
      "text/latex": [
       "$\\displaystyle W_{wg} =  1.26~um$"
      ],
      "text/plain": [
       "<IPython.core.display.Math object>"
      ]
     },
     "metadata": {},
     "output_type": "display_data"
    }
   ],
   "source": [
    "W_wg = (1/((2*N)**(1/4)))*np.sqrt(lambda_0*We/neff_app[0])\n",
    "display(Math('W_{wg} = %5.2f~um' %(1e6*W_wg)))"
   ]
  }
 ],
 "metadata": {
  "kernelspec": {
   "display_name": "Python 3.10.2 64-bit",
   "language": "python",
   "name": "python3"
  },
  "language_info": {
   "codemirror_mode": {
    "name": "ipython",
    "version": 3
   },
   "file_extension": ".py",
   "mimetype": "text/x-python",
   "name": "python",
   "nbconvert_exporter": "python",
   "pygments_lexer": "ipython3",
   "version": "3.10.2"
  },
  "orig_nbformat": 4,
  "vscode": {
   "interpreter": {
    "hash": "9cbdc75d9e2f55d2d9002e3a3bcb34fdd032c5e2f75dfba8f134282fc3e89518"
   }
  }
 },
 "nbformat": 4,
 "nbformat_minor": 2
}
