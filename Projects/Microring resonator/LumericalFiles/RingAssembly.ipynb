{
 "cells": [
  {
   "cell_type": "code",
   "execution_count": 13,
   "metadata": {},
   "outputs": [],
   "source": [
    "import os\n",
    "import imp\n",
    "import matplotlib.pyplot as plt\n",
    "import numpy as np\n",
    "import math\n",
    "import pandas as pd\n",
    "import sys\n",
    "import pickle as plk\n",
    "import importlib.util\n",
    "\n",
    "###############################################################\n",
    "# LINUX PATH\n",
    "\n",
    "sys.path.append(\"/opt/lumerical/v221/api/python\") #Default linux lumapi path\n",
    "import lumapi\n",
    "sys.path.append(os.path.dirname('/home/trainner/Documentos/Caio/GitReps/Photonics-training/Projects/Microring Resonator/LumericalFiles')) #Current directory\n",
    "\n",
    "###############################################################\n",
    "# WINDOWS PATH\n",
    "\n",
    "#spec_win = importlib.util.spec_from_file_location('lumapi', 'C:\\\\Program Files\\\\Lumerical\\\\v202\\\\api\\\\python\\\\lumapi.py')\n",
    "#lumapi = importlib.util.module_from_spec(spec_win)\n",
    "#os.add_dll_directory(\"C:/Program Files/Lumerical/v202/api/python\")\n",
    "#sys.path.append(os.path.dirname('C:/Users/Caio/Documents/GitHub/Photonics-training/Projects/MMI/Lumericalfiles/'))\n",
    "#spec_win.loader.exec_module(lumapi)"
   ]
  },
  {
   "cell_type": "markdown",
   "metadata": {},
   "source": [
    "## Lumapi init"
   ]
  },
  {
   "cell_type": "code",
   "execution_count": 14,
   "metadata": {},
   "outputs": [],
   "source": [
    "ring = lumapi.FDTD(filename='RINGProject.fsp',hide=False) "
   ]
  },
  {
   "cell_type": "markdown",
   "metadata": {},
   "source": [
    "## Functions"
   ]
  },
  {
   "cell_type": "code",
   "execution_count": 15,
   "metadata": {},
   "outputs": [],
   "source": [
    "def RectInsert(X,XSPAN,Y,YSPAN,Z,ZSPAN,MATERIAL,lumerical):\n",
    "    \n",
    "    lumerical.switchtolayout()\n",
    "    lumerical.addrect()\n",
    "    lumerical.set({\"x\":X,\"y\":Y,\"z\":Z,\n",
    "         \"x span\":XSPAN, \"y span\":YSPAN, \"z span\":ZSPAN,\n",
    "         \"material\":MATERIAL\n",
    "        })"
   ]
  },
  {
   "cell_type": "markdown",
   "metadata": {},
   "source": [
    "## Assembly parameters"
   ]
  },
  {
   "cell_type": "code",
   "execution_count": 16,
   "metadata": {},
   "outputs": [],
   "source": [
    "StRingLen = 1e-6 # Length of straight sections of the ring\n",
    "Radius = 3e-6 # Ring radius\n",
    "\n",
    "StraightSpan = 20e-6 # Length of straight waveguides\n",
    "Gap = 150e-9 # Gap between waveguides and the ring\n",
    "\n",
    "BaseHeight = 0.22e-6 # height of the waveguide\n",
    "BaseWidth = 0.5e-6 # width of the waveguide base"
   ]
  },
  {
   "cell_type": "markdown",
   "metadata": {},
   "source": [
    "## Assembly"
   ]
  },
  {
   "cell_type": "code",
   "execution_count": 33,
   "metadata": {},
   "outputs": [],
   "source": [
    "ring.selectall()\n",
    "ring.delete()\n",
    "ring.addobject(\"ring_resonator\")\n",
    "ring.set({\"x\":-StraightSpan/2, \"y\":0, \"z\":0,\n",
    "          \"Lc\":StRingLen,\n",
    "          \"x span\":StraightSpan,\n",
    "          \"radius\":Radius,\n",
    "          \"gap\":Gap,\n",
    "          \"base height\":BaseHeight,\n",
    "          \"base width\":BaseWidth})\n",
    "\n",
    "ring.setnamed(\"ring resonator::inner_bottom\",\"enabled\",0)\n",
    "ring.setnamed(\"ring resonator::outer_bottom\",\"enabled\",0)\n",
    "ring.setnamed(\"ring resonator::arc2\",\"enabled\",0)\n",
    "ring.setnamed(\"ring resonator::arc3\",\"enabled\",0)\n",
    "\n",
    "ring.addfdtd()\n",
    "ring.set({\"x\":0, \"y\":Radius, \"z\":0,\n",
    "          \"x span\":StraightSpan, \"y span\":2*Radius})\n",
    "ring.addport()"
   ]
  }
 ],
 "metadata": {
  "kernelspec": {
   "display_name": "Python 3.8.10 64-bit",
   "language": "python",
   "name": "python3"
  },
  "language_info": {
   "codemirror_mode": {
    "name": "ipython",
    "version": 3
   },
   "file_extension": ".py",
   "mimetype": "text/x-python",
   "name": "python",
   "nbconvert_exporter": "python",
   "pygments_lexer": "ipython3",
   "version": "3.8.10"
  },
  "orig_nbformat": 4,
  "vscode": {
   "interpreter": {
    "hash": "916dbcbb3f70747c44a77c7bcd40155683ae19c65e1c03b4aa3499c5328201f1"
   }
  }
 },
 "nbformat": 4,
 "nbformat_minor": 2
}
