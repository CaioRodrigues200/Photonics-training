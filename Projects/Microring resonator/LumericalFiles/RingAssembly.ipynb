{
 "cells": [
  {
   "cell_type": "code",
   "execution_count": 92,
   "metadata": {},
   "outputs": [],
   "source": [
    "import os\n",
    "import imp\n",
    "import matplotlib.pyplot as plt\n",
    "import numpy as np\n",
    "import math\n",
    "import pandas as pd\n",
    "import sys\n",
    "import pickle as plk\n",
    "import importlib.util\n",
    "\n",
    "###############################################################\n",
    "# LINUX PATH\n",
    "\n",
    "#sys.path.append(\"/opt/lumerical/v221/api/python\") #Default linux lumapi path\n",
    "#import lumapi\n",
    "#sys.path.append(os.path.dirname('/home/trainner/Documentos/Caio/GitReps/Photonics-training/Projects/Microring Resonator/LumericalFiles')) #Current directory\n",
    "\n",
    "###############################################################\n",
    "# WINDOWS PATH\n",
    "\n",
    "spec_win = importlib.util.spec_from_file_location('lumapi', 'C:\\\\Program Files\\\\Lumerical\\\\v202\\\\api\\\\python\\\\lumapi.py')\n",
    "lumapi = importlib.util.module_from_spec(spec_win)\n",
    "os.add_dll_directory(\"C:/Program Files/Lumerical/v202/api/python\")\n",
    "sys.path.append(os.path.dirname('C:/Users/Caio/Documents/GitHub/Photonics-training/Projects/Microring Resonator/LumericalFiles/'))\n",
    "spec_win.loader.exec_module(lumapi)"
   ]
  },
  {
   "cell_type": "markdown",
   "metadata": {},
   "source": [
    "## Lumapi init"
   ]
  },
  {
   "cell_type": "code",
   "execution_count": 93,
   "metadata": {},
   "outputs": [],
   "source": [
    "ring = lumapi.FDTD(filename='RINGProject.fsp',hide=False) "
   ]
  },
  {
   "cell_type": "markdown",
   "metadata": {},
   "source": [
    "## Functions"
   ]
  },
  {
   "cell_type": "code",
   "execution_count": 94,
   "metadata": {},
   "outputs": [],
   "source": [
    "def RectInsert(X,XSPAN,Y,YSPAN,Z,ZSPAN,MATERIAL,lumerical):\n",
    "    \n",
    "    lumerical.switchtolayout()\n",
    "    lumerical.addrect()\n",
    "    lumerical.set({\"x\":X,\"y\":Y,\"z\":Z,\n",
    "         \"x span\":XSPAN, \"y span\":YSPAN, \"z span\":ZSPAN,\n",
    "         \"material\":MATERIAL\n",
    "        })"
   ]
  },
  {
   "cell_type": "markdown",
   "metadata": {},
   "source": [
    "## Assembly parameters"
   ]
  },
  {
   "cell_type": "code",
   "execution_count": 95,
   "metadata": {},
   "outputs": [],
   "source": [
    "StRingLen = 0 # Length of straight sections of the ring\n",
    "Radius = 3e-6 # Ring radius\n",
    "\n",
    "StraightSpan = 10e-6 # Length of straight waveguides\n",
    "Gap = 150e-9 # Gap between waveguides and the ring\n",
    "\n",
    "BaseHeight = 0.22e-6 # height of the waveguide\n",
    "BaseWidth = 0.5e-6 # width of the waveguide base"
   ]
  },
  {
   "cell_type": "markdown",
   "metadata": {},
   "source": [
    "## Assembly"
   ]
  },
  {
   "cell_type": "code",
   "execution_count": 96,
   "metadata": {},
   "outputs": [
    {
     "name": "stdout",
     "output_type": "stream",
     "text": [
      "{!!}\n",
      "\n"
     ]
    },
    {
     "name": "stderr",
     "output_type": "stream",
     "text": [
      "C:\\Program Files\\Lumerical\\v202\\api\\python\\lumapi.py:138: UserWarning: Multiple objects named '::model::rectangle'. Use of this object may give unexpected results.\n",
      "  warnings.warn(message)\n"
     ]
    },
    {
     "data": {
      "text/plain": [
       "1.0"
      ]
     },
     "execution_count": 96,
     "metadata": {},
     "output_type": "execute_result"
    }
   ],
   "source": [
    "ring.switchtolayout()\n",
    "ring.selectall()\n",
    "ring.delete()\n",
    "ring.addobject(\"ring_resonator\")\n",
    "ring.set({\"x\":-StraightSpan/2, \"y\":0, \"z\":0,\n",
    "          \"Lc\":StRingLen,\n",
    "          \"x span\":StraightSpan,\n",
    "          \"radius\":Radius,\n",
    "          \"gap\":Gap,\n",
    "          \"base height\":BaseHeight,\n",
    "          \"base width\":BaseWidth})\n",
    "\n",
    "ring.setnamed(\"ring resonator::inner_bottom\",\"enabled\",0)\n",
    "ring.setnamed(\"ring resonator::outer_bottom\",\"enabled\",0)\n",
    "ring.setnamed(\"ring resonator::arc2\",\"enabled\",0)\n",
    "ring.setnamed(\"ring resonator::arc3\",\"enabled\",0)\n",
    "\n",
    "RectInsert(-StRingLen-Radius, BaseWidth, -Radius/4, Radius/2, 0, BaseHeight, \"Si (Silicon) - Palik\", ring)\n",
    "RectInsert(StRingLen+Radius, BaseWidth, -Radius/4, Radius/2, 0, BaseHeight, \"Si (Silicon) - Palik\", ring)\n",
    "\n",
    "ring.addfdtd()\n",
    "ring.set({\"x\":0, \"y\":0.5*(Radius+3*BaseWidth+Gap - Radius/4), \"z\":0,\n",
    "          \"x span\":StraightSpan, \"y span\":Radius+3*BaseWidth+Gap+Radius/2,\n",
    "          \"background material\": \"SiO2 (Glass) - Palik\",\n",
    "          \"mesh accuracy\":3})\n",
    "\n",
    "ring.addport()\n",
    "ring.set({\"x\":-StraightSpan/2.5, \"y\":Radius+BaseWidth+Gap, \"z\":0,\n",
    "          \"y span\":4*BaseWidth, \"z span\":2*BaseWidth})\n",
    "ring.addport()\n",
    "ring.set({\"x\":StraightSpan/2.5, \"y\":Radius+BaseWidth+Gap, \"z\":0,\n",
    "          \"y span\":4*BaseWidth, \"z span\":2*BaseWidth,\n",
    "          \"direction\":'Backward'})\n",
    "ring.addport()\n",
    "ring.set({\"x\":-StRingLen-Radius, \"y\":-Radius/4, \"z\":0,\n",
    "          \"injection axis\":'y-axis', \"x span\":4*BaseWidth, \"z span\":2*BaseWidth})\n",
    "ring.addport()\n",
    "ring.set({\"x\":StRingLen+Radius, \"y\":-Radius/4, \"z\":0,\n",
    "          \"injection axis\":'y-axis', \"x span\":4*BaseWidth, \"z span\":2*BaseWidth})\n",
    "\n",
    "ring.setglobalsource(\"wavelength start\", 1.5e-6)\n",
    "ring.setglobalsource(\"wavelength stop\", 1.6e-6)"
   ]
  },
  {
   "cell_type": "markdown",
   "metadata": {},
   "source": [
    "## Parameter sweeps"
   ]
  },
  {
   "cell_type": "markdown",
   "metadata": {},
   "source": [
    "### Lc Sweep"
   ]
  },
  {
   "cell_type": "code",
   "execution_count": 97,
   "metadata": {},
   "outputs": [
    {
     "data": {
      "text/plain": [
       "'Transmission In1'"
      ]
     },
     "execution_count": 97,
     "metadata": {},
     "output_type": "execute_result"
    }
   ],
   "source": [
    "# Sweep configs\n",
    "SPoints = 10       # Sweep points\n",
    "SRange = [0,3e-6]  # Sweep range\n",
    "\n",
    "# Sweep creation\n",
    "ring.deletesweep(\"Lc_sweep\")\n",
    "ring.addsweep(0)\n",
    "ring.setsweep(\"sweep\",\"name\",\"Lc_sweep\")\n",
    "ring.setsweep(\"Lc_sweep\",\"type\",\"Ranges\")\n",
    "ring.setsweep(\"Lc_sweep\",\"number of points\",SPoints)\n",
    "\n",
    "LCParameter = {\"Name\":\"LC\", \"Type\":\"Length\", \"Units\":\"microns\",\n",
    "               \"Parameter\":\"::model::ring resonator::Lc\",\n",
    "               \"Start\":SRange[0], \"Stop\":SRange[1]}\n",
    "\n",
    "Transmission_In = {\"Name\":\"Transmission In\",\n",
    "                   \"Result\":\"::model::FDTD::ports::port 1::T\"}\n",
    "Transmission_Pass = {\"Name\":\"Transmission Pass\",\n",
    "                     \"Result\":\"::model::FDTD::ports::port 2::T\"}\n",
    "Transmission_Drop = {\"Name\":\"Transmission In\",\n",
    "                     \"Result\":\"::model::FDTD::ports::port 4::T\"}\n",
    "\n",
    "ring.addsweepparameter(\"Lc_sweep\",LCParameter)\n",
    "ring.addsweepresult(\"Lc_sweep\",Transmission_In)\n",
    "ring.addsweepresult(\"Lc_sweep\",Transmission_Pass)\n",
    "ring.addsweepresult(\"Lc_sweep\",Transmission_Drop)"
   ]
  }
 ],
 "metadata": {
  "kernelspec": {
   "display_name": "Python 3.10.2 64-bit",
   "language": "python",
   "name": "python3"
  },
  "language_info": {
   "codemirror_mode": {
    "name": "ipython",
    "version": 3
   },
   "file_extension": ".py",
   "mimetype": "text/x-python",
   "name": "python",
   "nbconvert_exporter": "python",
   "pygments_lexer": "ipython3",
   "version": "3.10.2"
  },
  "orig_nbformat": 4,
  "vscode": {
   "interpreter": {
    "hash": "9cbdc75d9e2f55d2d9002e3a3bcb34fdd032c5e2f75dfba8f134282fc3e89518"
   }
  }
 },
 "nbformat": 4,
 "nbformat_minor": 2
}
