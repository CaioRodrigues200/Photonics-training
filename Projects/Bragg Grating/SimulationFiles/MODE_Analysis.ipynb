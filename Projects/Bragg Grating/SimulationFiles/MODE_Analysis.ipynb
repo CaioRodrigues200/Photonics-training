{
 "cells": [
  {
   "cell_type": "code",
   "execution_count": 1,
   "metadata": {},
   "outputs": [],
   "source": [
    "import numpy as np\n",
    "import matplotlib.pyplot as plt\n",
    "import matplotlib.ticker as tck\n",
    "import pandas as pd\n",
    "import sympy as sym\n",
    "import warnings\n",
    "import pickle as plk\n",
    "from IPython.display import display, Math\n",
    "from numpy.lib.scimath import sqrt as csqrt\n",
    "from scipy.signal import find_peaks\n",
    "from sklearn.pipeline import make_pipeline\n",
    "from sklearn.preprocessing import PolynomialFeatures\n",
    "from sklearn.linear_model import LinearRegression\n",
    "\n",
    "import os\n",
    "import imp\n",
    "import sys\n",
    "import importlib.util\n",
    "\n",
    "###############################################################\n",
    "# LINUX PATH\n",
    "\n",
    "# sys.path.append(\"/opt/lumerical/v221/api/python\") #Default linux lumapi path\n",
    "# import lumapi\n",
    "# sys.path.append(os.path.dirname('/home/trainner/Documentos/Caio/GitReps/Photonics-training/Projects/Bragg Grating/SimulationFiles')) #Current directory\n",
    "\n",
    "###############################################################\n",
    "# WINDOWS PATH\n",
    "\n",
    "spec_win = importlib.util.spec_from_file_location('lumapi', 'C:\\\\Program Files\\\\Lumerical\\\\v202\\\\api\\\\python\\\\lumapi.py')\n",
    "lumapi = importlib.util.module_from_spec(spec_win)\n",
    "os.add_dll_directory(\"C:/Program Files/Lumerical/v202/api/python\")\n",
    "sys.path.append(os.path.dirname('C:/Users/Caio/Documents/GitHub/Photonics-training/Projects/Bragg Grating/SimulationFiles/'))\n",
    "spec_win.loader.exec_module(lumapi)"
   ]
  },
  {
   "cell_type": "code",
   "execution_count": 2,
   "metadata": {},
   "outputs": [],
   "source": [
    "bragg = lumapi.MODE(filename='BRAGGProject.lms',hide=False) "
   ]
  },
  {
   "cell_type": "markdown",
   "metadata": {},
   "source": [
    "## Functions"
   ]
  },
  {
   "cell_type": "code",
   "execution_count": 3,
   "metadata": {},
   "outputs": [],
   "source": [
    "# Search for function's intersections on signal levels\n",
    "def signalLv(yarray,level,type):\n",
    "    peak, pd = find_peaks(yarray)\n",
    "    maxpeak = yarray[peak[np.argmax(yarray[peak])]]\n",
    "    minpeak = yarray[np.argmin(yarray)]\n",
    "    index = []\n",
    "\n",
    "    if(type == 'linear'):\n",
    "        lvpeak = (maxpeak - minpeak)*level + minpeak\n",
    "        for i in range(0,np.size(yarray)-1):\n",
    "            if(((maxpeak-yarray[i]) - (maxpeak-lvpeak)) * ((maxpeak-yarray[i+1]) - (maxpeak-lvpeak)) <= 0):\n",
    "                index.append(i)\n",
    "        yMed = (yarray[index[0]] + yarray[index[-1]])/2\n",
    "\n",
    "    if(type == 'log10'):\n",
    "        lvpeak = maxpeak + 10*np.log10(level)\n",
    "        for i in range(0,np.size(yarray)-1):\n",
    "            if(((maxpeak-yarray[i]) - (maxpeak-lvpeak)) * ((maxpeak-yarray[i+1]) - (maxpeak-lvpeak)) <= 0):\n",
    "                index.append(i)\n",
    "        yMed = 10*np.log10((10**(yarray[index[0]]/2) + 10**(yarray[index[1]]/2))/2)\n",
    "\n",
    "    return {'index':index,'yMed':yMed}\n",
    "\n",
    "\n",
    "# Creates a box\n",
    "def RectInsert(X,XSPAN,Y,YSPAN,Z,ZSPAN,MATERIAL,lumerical):\n",
    "    \n",
    "    lumerical.switchtolayout()\n",
    "    lumerical.addrect()\n",
    "    lumerical.set({\"x\":X,\"y\":Y,\"z\":Z,\n",
    "         \"x span\":XSPAN, \"y span\":YSPAN, \"z span\":ZSPAN,\n",
    "         \"material\":MATERIAL\n",
    "        })"
   ]
  },
  {
   "cell_type": "markdown",
   "metadata": {},
   "source": [
    "## Assembly parameters"
   ]
  },
  {
   "cell_type": "code",
   "execution_count": 5,
   "metadata": {},
   "outputs": [],
   "source": [
    "SilH = 600e-9 # Silicon height\n",
    "SilW = 220e-9 # Silicon width\n",
    "\n",
    "GlassH = 1e-6 # SiO2 height"
   ]
  },
  {
   "cell_type": "markdown",
   "metadata": {},
   "source": [
    "## Index variation calculation"
   ]
  },
  {
   "cell_type": "code",
   "execution_count": 7,
   "metadata": {},
   "outputs": [
    {
     "data": {
      "text/html": [
       "<div>\n",
       "<style scoped>\n",
       "    .dataframe tbody tr th:only-of-type {\n",
       "        vertical-align: middle;\n",
       "    }\n",
       "\n",
       "    .dataframe tbody tr th {\n",
       "        vertical-align: top;\n",
       "    }\n",
       "\n",
       "    .dataframe thead th {\n",
       "        text-align: right;\n",
       "    }\n",
       "</style>\n",
       "<table border=\"1\" class=\"dataframe\">\n",
       "  <thead>\n",
       "    <tr style=\"text-align: right;\">\n",
       "      <th></th>\n",
       "      <th>x^0</th>\n",
       "      <th>x^1</th>\n",
       "    </tr>\n",
       "  </thead>\n",
       "  <tbody>\n",
       "    <tr>\n",
       "      <th>0</th>\n",
       "      <td>-0.000382</td>\n",
       "      <td>1.969177e+06</td>\n",
       "    </tr>\n",
       "  </tbody>\n",
       "</table>\n",
       "</div>"
      ],
      "text/plain": [
       "        x^0           x^1\n",
       "0 -0.000382  1.969177e+06"
      ]
     },
     "execution_count": 7,
     "metadata": {},
     "output_type": "execute_result"
    },
    {
     "data": {
      "image/png": "[encoded data removed]",
      "text/plain": [
       "<Figure size 864x504 with 1 Axes>"
      ]
     },
     "metadata": {
      "needs_background": "light"
     },
     "output_type": "display_data"
    }
   ],
   "source": [
    "points = 5                                # Number of points\n",
    "deltaW = np.linspace(5e-9,50e-9,points)    # Corrugation width matrix\n",
    "\n",
    "bragg.switchtolayout()\n",
    "bragg.deleteall()\n",
    "\n",
    "# Substract insert\n",
    "RectInsert(0, 5e-6, 0, SilH*2.5, -(SilW+GlassH)/2, GlassH, \"SiO2 (Glass) - Palik\", bragg)\n",
    "bragg.set(\"name\", \"Substract\")\n",
    "\n",
    "bragg.addfde()\n",
    "bragg.setanalysis(\"wavelength\", 1500e-9)\n",
    "bragg.setanalysis(\"number of trial modes\",2)\n",
    "bragg.set(\"solver type\", \"2D X normal\")\n",
    "bragg.set({\"x\":0, \"y\":0, \"z\":0, \"y span\":SilH*2, \"z span\":1e-6,\n",
    "           \"mesh cells y\":200, \"mesh cells z\":200,\n",
    "           \"y min bc\":\"PML\", \"y max bc\":\"PML\", \"z min bc\":\"PML\", \"z max bc\":\"PML\"})\n",
    "\n",
    "# Waveguide insert\n",
    "RectInsert(0, 5e-6, 0, SilH, 0, SilW, \"Si (Silicon) - Palik\", bragg)\n",
    "bragg.set(\"name\", \"Waveguide\")\n",
    "\n",
    "# Mesh insert\n",
    "bragg.addmesh()\n",
    "bragg.set({\"x\":0, \"x span\":5e-6, \"y\":0, \"y span\":SilH*1.5, \"z\":0, \"z span\":SilW*1.5})\n",
    "\n",
    "neff1 = np.zeros(points)\n",
    "neff2 = np.zeros(points)\n",
    "\n",
    "for i in range(points):\n",
    "    bragg.switchtolayout()\n",
    "    bragg.select(\"Waveguide\")\n",
    "    bragg.set(\"y span\",SilH-deltaW[i])\n",
    "    bragg.select(\"mesh\")\n",
    "    bragg.set(\"y span\",(SilH-deltaW[i]))\n",
    "    bragg.select(\"Substract\")\n",
    "    bragg.set(\"y span\",(SilH-deltaW[i])*1.75)\n",
    "    bragg.select(\"FDE\")\n",
    "    bragg.set(\"y span\",(SilH-deltaW[i])*1.5)\n",
    "    bragg.findmodes()\n",
    "    neff1[i] = np.real(bragg.getdata(\"FDE::data::mode1\",\"neff\"))\n",
    "\n",
    "for i in range(points):\n",
    "    bragg.switchtolayout()\n",
    "    bragg.select(\"Waveguide\")\n",
    "    bragg.set(\"y span\",SilH+deltaW[i])\n",
    "    bragg.select(\"mesh\")\n",
    "    bragg.set(\"y span\",(SilH+deltaW[i]))\n",
    "    bragg.select(\"Substract\")\n",
    "    bragg.set(\"y span\",(SilH+deltaW[i])*1.75)\n",
    "    bragg.select(\"FDE\")\n",
    "    bragg.set(\"y span\",(SilH+deltaW[i])*1.5)\n",
    "    bragg.findmodes()\n",
    "    neff2[i] = np.real(bragg.getdata(\"FDE::data::mode1\",\"neff\"))\n",
    "\n",
    "plt.figure(figsize=(12, 7))\n",
    "plt.title(\"Effective index shift x Corrugation width\", fontsize=20)\n",
    "plt.plot(deltaW*1e9,neff2 - neff1,label=r\"$\\Delta$n (rectangular)\")\n",
    "plt.xlabel(r'$\\Delta W$ (nm)', fontsize=16)\n",
    "plt.ylabel(r'$\\Delta n$ ($n_{eff2}$-$n_{eff1}$)', fontsize=16)\n",
    "\n",
    "plt.text(30, 0.1, r'$\\Delta$n = -3.82*$10^{-4}$ + 1.969*$10^{6}$$\\Delta$W'  \n",
    ", color='tab:orange', weight='black', fontsize =14, horizontalalignment='center', verticalalignment='top')\n",
    "\n",
    "\n",
    "# Polinomial regression\n",
    "\n",
    "delw = np.linspace(5e-9,50e-9,500)\n",
    "xpoints = deltaW                        # Training x points\n",
    "ypoints = neff2 - neff1          # Training y points\n",
    "\n",
    "spacement = 2\n",
    "for i in range(int(len(xpoints)/spacement)):\n",
    "     plt.plot(xpoints[spacement*i]*1e9, ypoints[spacement*i],'o',color='r')\n",
    "\n",
    "poly = PolynomialFeatures(degree=1, include_bias=False)\n",
    "poly_features = poly.fit_transform(xpoints.reshape(-1, 1))\n",
    "poly_reg_model = LinearRegression()\n",
    "poly_reg_model.fit(poly_features, ypoints)               # Making the model\n",
    "\n",
    "deln = poly_reg_model.intercept_ + poly_reg_model.coef_[0]*delw\n",
    "plt.plot(delw*1e9,deln, linestyle='--', label='Approximation',color='tab:orange')\n",
    "\n",
    "plt.legend(fontsize=14)\n",
    "plt.grid()\n",
    "\n",
    "coefs = {}\n",
    "\n",
    "coefs['x^0'] = [poly_reg_model.intercept_]\n",
    "for i in range(len(poly_reg_model.coef_)):\n",
    "    coefs['x^' + str(i+1)] = [poly_reg_model.coef_[i]]\n",
    "\n",
    "data = pd.DataFrame(coefs)\n",
    "data"
   ]
  }
 ],
 "metadata": {
  "kernelspec": {
   "display_name": "Python 3.10.2 64-bit",
   "language": "python",
   "name": "python3"
  },
  "language_info": {
   "codemirror_mode": {
    "name": "ipython",
    "version": 3
   },
   "file_extension": ".py",
   "mimetype": "text/x-python",
   "name": "python",
   "nbconvert_exporter": "python",
   "pygments_lexer": "ipython3",
   "version": "3.10.2"
  },
  "orig_nbformat": 4,
  "vscode": {
   "interpreter": {
    "hash": "9cbdc75d9e2f55d2d9002e3a3bcb34fdd032c5e2f75dfba8f134282fc3e89518"
   }
  }
 },
 "nbformat": 4,
 "nbformat_minor": 2
}
