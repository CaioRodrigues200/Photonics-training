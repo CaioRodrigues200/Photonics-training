{
 "cells": [
  {
   "cell_type": "code",
   "execution_count": 1,
   "metadata": {},
   "outputs": [],
   "source": [
    "import numpy as np\n",
    "import matplotlib.pyplot as plt\n",
    "import matplotlib.ticker as tck\n",
    "import pandas as pd\n",
    "import sympy as sym\n",
    "import warnings\n",
    "import pickle as plk\n",
    "from IPython.display import display, Math\n",
    "from numpy.lib.scimath import sqrt as csqrt\n",
    "from scipy.signal import find_peaks\n",
    "\n",
    "import os\n",
    "import imp\n",
    "import sys\n",
    "import importlib.util\n",
    "\n",
    "###############################################################\n",
    "# LINUX PATH\n",
    "\n",
    "# sys.path.append(\"/opt/lumerical/v221/api/python\") #Default linux lumapi path\n",
    "# import lumapi\n",
    "# sys.path.append(os.path.dirname('/home/trainner/Documentos/Caio/GitReps/Photonics-training/Projects/Bragg Grating/SimulationFiles')) #Current directory\n",
    "\n",
    "###############################################################\n",
    "# WINDOWS PATH\n",
    "\n",
    "spec_win = importlib.util.spec_from_file_location('lumapi', 'C:\\\\Program Files\\\\Lumerical\\\\v202\\\\api\\\\python\\\\lumapi.py')\n",
    "lumapi = importlib.util.module_from_spec(spec_win)\n",
    "os.add_dll_directory(\"C:/Program Files/Lumerical/v202/api/python\")\n",
    "sys.path.append(os.path.dirname('C:/Users/Caio/Documents/GitHub/Photonics-training/Projects/Bragg Grating/SimulationFiles/'))\n",
    "spec_win.loader.exec_module(lumapi)"
   ]
  },
  {
   "cell_type": "code",
   "execution_count": 2,
   "metadata": {},
   "outputs": [],
   "source": [
    "bragg = lumapi.FDTD(filename='BRAGGProjectFDTD.fsp',hide=False) "
   ]
  },
  {
   "cell_type": "markdown",
   "metadata": {},
   "source": [
    "## Functions"
   ]
  },
  {
   "cell_type": "code",
   "execution_count": 3,
   "metadata": {},
   "outputs": [],
   "source": [
    "# Search for function's intersections on signal levels\n",
    "def signalLv(yarray,level,type):\n",
    "    peak, pd = find_peaks(yarray)\n",
    "    maxpeak = yarray[peak[np.argmax(yarray[peak])]]\n",
    "    minpeak = yarray[np.argmin(yarray)]\n",
    "    index = []\n",
    "\n",
    "    if(type == 'linear'):\n",
    "        lvpeak = (maxpeak - minpeak)*level + minpeak\n",
    "        for i in range(0,np.size(yarray)-1):\n",
    "            if(((maxpeak-yarray[i]) - (maxpeak-lvpeak)) * ((maxpeak-yarray[i+1]) - (maxpeak-lvpeak)) <= 0):\n",
    "                index.append(i)\n",
    "        yMed = (yarray[index[0]] + yarray[index[-1]])/2\n",
    "\n",
    "    if(type == 'log10'):\n",
    "        lvpeak = maxpeak + 10*np.log10(level)\n",
    "        for i in range(0,np.size(yarray)-1):\n",
    "            if(((maxpeak-yarray[i]) - (maxpeak-lvpeak)) * ((maxpeak-yarray[i+1]) - (maxpeak-lvpeak)) <= 0):\n",
    "                index.append(i)\n",
    "        yMed = 10*np.log10((10**(yarray[index[0]]/2) + 10**(yarray[index[1]]/2))/2)\n",
    "\n",
    "    return {'index':index,'yMed':yMed}\n",
    "\n",
    "\n",
    "# Creates a box\n",
    "def RectInsert(X,XSPAN,Y,YSPAN,Z,ZSPAN,MATERIAL,lumerical):\n",
    "    \n",
    "    lumerical.switchtolayout()\n",
    "    lumerical.addrect()\n",
    "    lumerical.set({\"x\":X,\"y\":Y,\"z\":Z,\n",
    "         \"x span\":XSPAN, \"y span\":YSPAN, \"z span\":ZSPAN,\n",
    "         \"material\":MATERIAL\n",
    "        })\n",
    "\n",
    "\n",
    "# Format a function/dataset as a polygon\n",
    "def PolyForm(x,y,ybase):\n",
    "    y2 = y + ybase\n",
    "    A = np.zeros((2,len(x)+2))\n",
    "    \n",
    "    A[0][1:len(x)+1] = x\n",
    "    A[1][1:len(x)+1] = y2\n",
    "    A[0][0] = x[0]\n",
    "    A[0][len(x)+1] = x[-1]\n",
    "    A[1][0] = ybase\n",
    "    A[1][len(x)+1] = ybase\n",
    "    \n",
    "    return A"
   ]
  },
  {
   "cell_type": "markdown",
   "metadata": {},
   "source": [
    "## Assembly parameters"
   ]
  },
  {
   "cell_type": "code",
   "execution_count": 4,
   "metadata": {},
   "outputs": [
    {
     "data": {
      "text/latex": [
       "$\\displaystyle \\kappa = 91546.58,~~~~~ \\Delta W = 35.00 nm,~~~~~ L = 25.00 um,~~~~~ R_{max} =  0.96$"
      ],
      "text/plain": [
       "<IPython.core.display.Math object>"
      ]
     },
     "metadata": {},
     "output_type": "display_data"
    },
    {
     "data": {
      "text/latex": [
       "$\\displaystyle \\Lambda = 0.321um,~~~~~ N =    77,~~~~~ \\Delta n = 0.06866,~~~~~ \\kappa L = 2.28866$"
      ],
      "text/plain": [
       "<IPython.core.display.Math object>"
      ]
     },
     "metadata": {},
     "output_type": "display_data"
    }
   ],
   "source": [
    "zband = 25e-9               # Zeroes bandwidth\n",
    "lmbd = 1500e-9              # Bragg Wavelength\n",
    "\n",
    "neff = 2.345                # Effective index (450nm)\n",
    "ng = 4.454                  # Group index (450nm)\n",
    "\n",
    "#neff = 2.579              # Effective index (600nm)\n",
    "#ng = 4.092                # Group index (600nm)\n",
    "\n",
    "SilH = 450e-9 # Silicon height\n",
    "SilW = 220e-9 # Silicon width\n",
    "GlassH = 1e-6 # SiO2 height\n",
    "\n",
    "L = 25e-6                   # Placeholder value\n",
    "\n",
    "kappa = np.sqrt( (zband*np.pi*ng/(lmbd**2))**2  - (np.pi/L)**2 )\n",
    "Rmax = (np.tanh(kappa*L))**2\n",
    "delN = kappa*lmbd/2         # deltaNeff (For stepwise neff)\n",
    "\n",
    "#Vh = (delN + 1.478e-3)/4.847e6  # DeltaW (Corrugation width) (450nm)\n",
    "#Vh = (delN + 3.82e-4)/1.969e6  # DeltaW (Corrugation width) (600nm)\n",
    "\n",
    "#Vp = lmbd/(2*neff)       # Grating period\n",
    "\n",
    "# Direct setting\n",
    "Vh = 35e-9        \n",
    "Vp = 0.321e-6 \n",
    "\n",
    "VpNum = int(L/Vp)\n",
    "\n",
    "display(Math('\\kappa = %5.2f,~~~~~ \\Delta W = %5.2f nm,~~~~~ L = %5.2f um,~~~~~ R_{max} = %5.2f' %(kappa,Vh*1e9,L*1e6,Rmax)))\n",
    "display(Math('\\Lambda = %5.3fum,~~~~~ N = %5.0f,~~~~~ \\Delta n = %3.5f,~~~~~ \\kappa L = %3.5f' %(Vp*1e6,VpNum,delN, kappa*L)))"
   ]
  },
  {
   "cell_type": "markdown",
   "metadata": {},
   "source": [
    "## Assembly main model"
   ]
  },
  {
   "cell_type": "code",
   "execution_count": 5,
   "metadata": {},
   "outputs": [
    {
     "data": {
      "text/plain": [
       "1.0"
      ]
     },
     "execution_count": 5,
     "metadata": {},
     "output_type": "execute_result"
    }
   ],
   "source": [
    "bragg.switchtolayout()\n",
    "bragg.deleteall()\n",
    "\n",
    "# Substract insert\n",
    "RectInsert(VpNum*Vp/2, VpNum*Vp+1e-6, 0, GlassH*2, -(SilW+GlassH)/2, GlassH, \"SiO2 (Glass) - Palik\", bragg)\n",
    "bragg.set(\"name\", \"Substract\")\n",
    "\n",
    "# Extremities insert\n",
    "RectInsert(-0.25e-6, 0.5e-6, 0, SilH, 0, SilW, \"Si (Silicon) - Palik\", bragg)\n",
    "bragg.set(\"name\", \"W1\")\n",
    "RectInsert(VpNum*Vp+0.25e-6, 0.5e-6, 0, SilH, 0, SilW, \"Si (Silicon) - Palik\", bragg)\n",
    "bragg.set(\"name\", \"W2\")\n",
    "\n",
    "# Corrugation insert\n",
    "bragg.addstructuregroup()\n",
    "bragg.set(\"name\",\"Corrugation\")\n",
    "for i in range(VpNum):\n",
    "    RectInsert(Vp/4 + i*Vp, Vp/2, 0, SilH+Vh, 0, SilW, \"Si (Silicon) - Palik\", bragg)\n",
    "    bragg.set(\"name\", \"Teeth+ \" + str(i))\n",
    "    bragg.addtogroup(\"Corrugation\")\n",
    "    RectInsert(0.75*Vp + i*Vp, Vp/2, 0, SilH-Vh, 0, SilW, \"Si (Silicon) - Palik\", bragg)\n",
    "    bragg.set(\"name\", \"Teeth- \" + str(i))\n",
    "    bragg.addtogroup(\"Corrugation\")\n",
    "\n",
    "# FDTD setting\n",
    "bragg.addfdtd()\n",
    "\n",
    "bragg.set({\"x\":VpNum*Vp/2, \"x span\":VpNum*Vp+1e-6, \"y\":0, \"y span\":(SilH+2*Vh)*2.5, \"z\":0, \"z span\":1.5e-6,\n",
    "           \"mesh accuracy\":7, \"simulation time\":15000e-15,\n",
    "           \"y min bc\":\"Anti-Symmetric\", \"y max bc\":\"PML\", \"z min bc\":\"PML\", \"z max bc\":\"PML\"})\n",
    "\n",
    "\n",
    "# Mesh insert\n",
    "bragg.addmesh()\n",
    "bragg.set({\"x\":VpNum*Vp/2, \"x span\":VpNum*Vp+1e-6, \"y\":0, \"y span\":SilH+Vh, \"z\":0, \"z span\":1.5*SilW})\n",
    "bragg.set(\"set maximum mesh step\",1)\n",
    "bragg.set({\"dx\":0.05e-6,\"dy\":0.005e-6,\"dz\":0.05e-6})\n",
    "\n",
    "# Ports setting\n",
    "bragg.addport()\n",
    "bragg.set({\"x\":-0.25e-6, \"y span\":(SilH+2*Vh)*5, \"z span\":3e-6,\n",
    "           \"direction\":\"Forward\"})\n",
    "\n",
    "bragg.addport()\n",
    "bragg.set({\"x\":VpNum*Vp+0.25e-6,\n",
    "           \"direction\":\"Backward\"})\n",
    "\n",
    "bragg.select('FDTD::ports')\n",
    "bragg.set('monitor frequency points',1000)\n",
    "\n",
    "bragg.setglobalsource(\"wavelength start\", lmbd-50e-9)\n",
    "bragg.setglobalsource(\"wavelength stop\", lmbd+50e-9)\n",
    "\n",
    "# Monitor insert\n",
    "bragg.addpower()\n",
    "bragg.set({\"x\":VpNum*Vp/2, \"x span\":VpNum*Vp+1e-6, \"y\":0, \"y span\":(SilH+2*Vh)*2})\n",
    "bragg.setglobalmonitor(\"use source limits\",0)\n",
    "bragg.setglobalmonitor(\"minimum wavelength\",lmbd-50e-9)\n",
    "bragg.setglobalmonitor(\"maximum wavelength\",lmbd+50e-9)\n",
    "bragg.setglobalmonitor(\"frequency points\",1000)\n",
    "\n",
    "# Reflection Monitor insert\n",
    "bragg.addpower()\n",
    "bragg.set({\"name\":\"Reflection monitor\", \"monitor type\":\"2D X-normal\",\n",
    "           \"x\":-0.35e-6, \"y\":0, \"y span\":(SilH+2*Vh)*2, \"z\":0, \"z span\":(SilH+2*Vh)*2})\n",
    "bragg.setglobalmonitor(\"use source limits\",0)\n",
    "bragg.setglobalmonitor(\"minimum wavelength\",lmbd-50e-9)\n",
    "bragg.setglobalmonitor(\"maximum wavelength\",lmbd+50e-9)\n",
    "bragg.setglobalmonitor(\"frequency points\",300)"
   ]
  },
  {
   "cell_type": "markdown",
   "metadata": {},
   "source": [
    "## Main model FDTD simulation"
   ]
  },
  {
   "cell_type": "code",
   "execution_count": 7,
   "metadata": {},
   "outputs": [],
   "source": [
    "bragg.run()"
   ]
  }
 ],
 "metadata": {
  "kernelspec": {
   "display_name": "Python 3.10.2 64-bit",
   "language": "python",
   "name": "python3"
  },
  "language_info": {
   "codemirror_mode": {
    "name": "ipython",
    "version": 3
   },
   "file_extension": ".py",
   "mimetype": "text/x-python",
   "name": "python",
   "nbconvert_exporter": "python",
   "pygments_lexer": "ipython3",
   "version": "3.10.2"
  },
  "orig_nbformat": 4,
  "vscode": {
   "interpreter": {
    "hash": "9cbdc75d9e2f55d2d9002e3a3bcb34fdd032c5e2f75dfba8f134282fc3e89518"
   }
  }
 },
 "nbformat": 4,
 "nbformat_minor": 2
}
