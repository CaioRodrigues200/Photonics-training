{
 "cells": [
  {
   "cell_type": "code",
   "execution_count": 2,
   "metadata": {},
   "outputs": [],
   "source": [
    "import numpy as np\n",
    "import matplotlib.pyplot as plt\n",
    "import matplotlib.ticker as tck\n",
    "import pandas as pd\n",
    "import sympy as sym\n",
    "import warnings\n",
    "import pickle as plk\n",
    "from IPython.display import display, Math\n",
    "from numpy.lib.scimath import sqrt as csqrt\n",
    "from scipy.signal import find_peaks\n",
    "\n",
    "import os\n",
    "import imp\n",
    "import sys\n",
    "import importlib.util\n",
    "\n",
    "###############################################################\n",
    "# LINUX PATH\n",
    "\n",
    "sys.path.append(\"/opt/lumerical/v221/api/python\") #Default linux lumapi path\n",
    "import lumapi\n",
    "sys.path.append(os.path.dirname('/home/trainner/Documentos/Caio/GitReps/Photonics-training/Projects/Bragg Grating/SimulationFiles')) #Current directory\n",
    "\n",
    "###############################################################\n",
    "# WINDOWS PATH\n",
    "\n",
    "# spec_win = importlib.util.spec_from_file_location('lumapi', 'C:\\\\Program Files\\\\Lumerical\\\\v202\\\\api\\\\python\\\\lumapi.py')\n",
    "# lumapi = importlib.util.module_from_spec(spec_win)\n",
    "# os.add_dll_directory(\"C:/Program Files/Lumerical/v202/api/python\")\n",
    "# sys.path.append(os.path.dirname('C:/Users/Caio/Documents/GitHub/Photonics-training/Projects/Bragg Grating/SimulationFiles/'))\n",
    "# spec_win.loader.exec_module(lumapi)"
   ]
  },
  {
   "cell_type": "code",
   "execution_count": null,
   "metadata": {},
   "outputs": [],
   "source": [
    "bragg = lumapi.FDTD(filename='BRAGGProject.lsf',hide=False) "
   ]
  },
  {
   "cell_type": "markdown",
   "metadata": {},
   "source": [
    "## Functions"
   ]
  },
  {
   "cell_type": "code",
   "execution_count": 3,
   "metadata": {},
   "outputs": [],
   "source": [
    "# Search for function's intersections on signal levels\n",
    "def signalLv(yarray,level,type):\n",
    "    peak, pd = find_peaks(yarray)\n",
    "    maxpeak = yarray[peak[np.argmax(yarray[peak])]]\n",
    "    minpeak = yarray[np.argmin(yarray)]\n",
    "    index = []\n",
    "\n",
    "    if(type == 'linear'):\n",
    "        lvpeak = (maxpeak - minpeak)*level + minpeak\n",
    "        for i in range(0,np.size(yarray)-1):\n",
    "            if(((maxpeak-yarray[i]) - (maxpeak-lvpeak)) * ((maxpeak-yarray[i+1]) - (maxpeak-lvpeak)) <= 0):\n",
    "                index.append(i)\n",
    "        yMed = (yarray[index[0]] + yarray[index[-1]])/2\n",
    "\n",
    "    if(type == 'log10'):\n",
    "        lvpeak = maxpeak + 10*np.log10(level)\n",
    "        for i in range(0,np.size(yarray)-1):\n",
    "            if(((maxpeak-yarray[i]) - (maxpeak-lvpeak)) * ((maxpeak-yarray[i+1]) - (maxpeak-lvpeak)) <= 0):\n",
    "                index.append(i)\n",
    "        yMed = 10*np.log10((10**(yarray[index[0]]/2) + 10**(yarray[index[1]]/2))/2)\n",
    "\n",
    "    return {'index':index,'yMed':yMed}\n",
    "\n",
    "\n",
    "# Creates a box\n",
    "def RectInsert(X,XSPAN,Y,YSPAN,Z,ZSPAN,MATERIAL,lumerical):\n",
    "    \n",
    "    lumerical.switchtolayout()\n",
    "    lumerical.addrect()\n",
    "    lumerical.set({\"x\":X,\"y\":Y,\"z\":Z,\n",
    "         \"x span\":XSPAN, \"y span\":YSPAN, \"z span\":ZSPAN,\n",
    "         \"material\":MATERIAL\n",
    "        })"
   ]
  },
  {
   "cell_type": "markdown",
   "metadata": {},
   "source": [
    "## Assembly"
   ]
  }
 ],
 "metadata": {
  "kernelspec": {
   "display_name": "Python 3.10.2 64-bit",
   "language": "python",
   "name": "python3"
  },
  "language_info": {
   "codemirror_mode": {
    "name": "ipython",
    "version": 3
   },
   "file_extension": ".py",
   "mimetype": "text/x-python",
   "name": "python",
   "nbconvert_exporter": "python",
   "pygments_lexer": "ipython3",
   "version": "3.10.2"
  },
  "orig_nbformat": 4,
  "vscode": {
   "interpreter": {
    "hash": "9cbdc75d9e2f55d2d9002e3a3bcb34fdd032c5e2f75dfba8f134282fc3e89518"
   }
  }
 },
 "nbformat": 4,
 "nbformat_minor": 2
}
