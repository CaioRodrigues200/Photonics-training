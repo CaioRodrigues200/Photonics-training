{
 "cells": [
  {
   "cell_type": "code",
   "execution_count": 1,
   "metadata": {},
   "outputs": [],
   "source": [
    "import numpy as np\n",
    "import matplotlib.pyplot as plt\n",
    "import matplotlib.ticker as tck\n",
    "import pandas as pd\n",
    "import sympy as sym\n",
    "import warnings\n",
    "import pickle as plk\n",
    "from IPython.display import display, Math\n",
    "from numpy.lib.scimath import sqrt as csqrt\n",
    "from scipy.signal import find_peaks\n",
    "\n",
    "import os\n",
    "import imp\n",
    "import sys\n",
    "import importlib.util\n",
    "\n",
    "###############################################################\n",
    "# LINUX PATH\n",
    "\n",
    "# sys.path.append(\"/opt/lumerical/v221/api/python\") #Default linux lumapi path\n",
    "# import lumapi\n",
    "# sys.path.append(os.path.dirname('/home/trainner/Documentos/Caio/GitReps/Photonics-training/Projects/Bragg Grating/SimulationFiles')) #Current directory\n",
    "\n",
    "###############################################################\n",
    "# WINDOWS PATH\n",
    "\n",
    "spec_win = importlib.util.spec_from_file_location('lumapi', 'C:\\\\Program Files\\\\Lumerical\\\\v202\\\\api\\\\python\\\\lumapi.py')\n",
    "lumapi = importlib.util.module_from_spec(spec_win)\n",
    "os.add_dll_directory(\"C:/Program Files/Lumerical/v202/api/python\")\n",
    "sys.path.append(os.path.dirname('C:/Users/Caio/Documents/GitHub/Photonics-training/Projects/Bragg Grating/SimulationFiles/'))\n",
    "spec_win.loader.exec_module(lumapi)"
   ]
  },
  {
   "cell_type": "code",
   "execution_count": 2,
   "metadata": {},
   "outputs": [],
   "source": [
    "bragg = lumapi.MODE(filename='BRAGGProjectEME.lms',hide=False) "
   ]
  },
  {
   "cell_type": "markdown",
   "metadata": {},
   "source": [
    "## Functions"
   ]
  },
  {
   "cell_type": "code",
   "execution_count": 38,
   "metadata": {},
   "outputs": [],
   "source": [
    "# Search for function's intersections on signal levels\n",
    "def signalLv(yarray,level,type):\n",
    "    peak, pd = find_peaks(yarray)\n",
    "    maxpeak = yarray[peak[np.argmax(yarray[peak])]]\n",
    "    minpeak = yarray[np.argmin(yarray)]\n",
    "    index = []\n",
    "\n",
    "    if(type == 'linear'):\n",
    "        lvpeak = (maxpeak - minpeak)*level + minpeak\n",
    "        for i in range(0,np.size(yarray)-1):\n",
    "            if(((maxpeak-yarray[i]) - (maxpeak-lvpeak)) * ((maxpeak-yarray[i+1]) - (maxpeak-lvpeak)) <= 0):\n",
    "                index.append(i)\n",
    "        yMed = (yarray[index[0]] + yarray[index[-1]])/2\n",
    "\n",
    "    if(type == 'log10'):\n",
    "        lvpeak = maxpeak + 10*np.log10(level)\n",
    "        for i in range(0,np.size(yarray)-1):\n",
    "            if(((maxpeak-yarray[i]) - (maxpeak-lvpeak)) * ((maxpeak-yarray[i+1]) - (maxpeak-lvpeak)) <= 0):\n",
    "                index.append(i)\n",
    "        yMed = 10*np.log10((10**(yarray[index[0]]/2) + 10**(yarray[index[1]]/2))/2)\n",
    "\n",
    "    return {'index':index,'yMed':yMed}\n",
    "\n",
    "\n",
    "# Creates a box\n",
    "def RectInsert(X,XSPAN,Y,YSPAN,Z,ZSPAN,MATERIAL,lumerical):\n",
    "    \n",
    "    lumerical.switchtolayout()\n",
    "    lumerical.addrect()\n",
    "    lumerical.set({\"x\":X,\"y\":Y,\"z\":Z,\n",
    "         \"x span\":XSPAN, \"y span\":YSPAN, \"z span\":ZSPAN,\n",
    "         \"material\":MATERIAL\n",
    "        })"
   ]
  },
  {
   "cell_type": "markdown",
   "metadata": {},
   "source": [
    "## Assembly parameters"
   ]
  },
  {
   "cell_type": "code",
   "execution_count": 77,
   "metadata": {},
   "outputs": [
    {
     "data": {
      "text/latex": [
       "$\\displaystyle \\kappa = 124268.89,~~~~~ \\Delta W = 41.26 nm,~~~~~ L = 600.00 um,~~~~~ R_{max} =  1.00$"
      ],
      "text/plain": [
       "<IPython.core.display.Math object>"
      ]
     },
     "metadata": {},
     "output_type": "display_data"
    },
    {
     "data": {
      "text/latex": [
       "$\\displaystyle \\Lambda =  0.32um,~~~~~ N =  1874$"
      ],
      "text/plain": [
       "<IPython.core.display.Math object>"
      ]
     },
     "metadata": {},
     "output_type": "display_data"
    },
    {
     "data": {
      "text/latex": [
       "$\\displaystyle \\kappa L = 74.5613,~~~~~ \\Delta n = 0.093$"
      ],
      "text/plain": [
       "<IPython.core.display.Math object>"
      ]
     },
     "metadata": {},
     "output_type": "display_data"
    }
   ],
   "source": [
    "SilH = 450e-9 # Silicon height\n",
    "SilW = 220e-9 # Silicon width\n",
    "GlassH = 2e-6 # SiO2 height\n",
    "ExtH = 475e-9 # Extremities height\n",
    "\n",
    "neff = 2.345             \n",
    "ng = 4.454 \n",
    "\n",
    "L = 600e-6 # Placeholder value\n",
    "\n",
    "dellmbd = 20e-9\n",
    "lmbd = 1500e-9\n",
    "\n",
    "kappa = np.sqrt( (dellmbd*np.pi*ng/(lmbd**2))**2  - (np.pi/L)**2 )\n",
    "Rmax = (np.tanh(kappa*L))**2\n",
    "delN = kappa*lmbd/2                                               # (For stepwise neff)\n",
    "\n",
    "sym.init_printing()\n",
    "Vh = sym.symbols('Vh')\n",
    "func = sym.Eq(0.032973 + 1.543951e6*Vh - 2.044362e12*Vh**2 + 9.477402*Vh**3,delN)\n",
    "f = sym.solve([func],(Vh))\n",
    "Vh = float(f[0][0])\n",
    "\n",
    "Vp = lmbd/(2*neff)\n",
    "VpNum = int((L/Vp) - 2)\n",
    "\n",
    "display(Math('\\kappa = %5.2f,~~~~~ \\Delta W = %5.2f nm,~~~~~ L = %5.2f um,~~~~~ R_{max} = %5.2f' %(kappa,Vh*1e9,L*1e6,Rmax)))\n",
    "display(Math('\\Lambda = %5.2fum,~~~~~ N = %5.0f' %(Vp*1e6,VpNum)))\n",
    "\n",
    "dellmbd = (1500e-9)**2/(ng*np.pi) * np.sqrt(kappa**2 + (np.pi/L)**2)\n",
    "Rmax = (np.tanh(kappa*L))**2\n",
    "\n",
    "display(Math('\\kappa L = %5.4f,~~~~~ \\Delta n = %5.3f' %(kappa*L,delN)))"
   ]
  },
  {
   "cell_type": "markdown",
   "metadata": {},
   "source": [
    "## Assembly main model"
   ]
  },
  {
   "cell_type": "code",
   "execution_count": 85,
   "metadata": {},
   "outputs": [],
   "source": [
    "bragg.switchtolayout()\n",
    "bragg.deleteall()\n",
    "\n",
    "# Substract insert\n",
    "RectInsert(3*Vp, 6*Vp + 4e-6, 0, GlassH*2, -(SilW+GlassH)/2, GlassH, \"SiO2 (Glass) - Palik\", bragg)\n",
    "bragg.set(\"name\", \"Substract\")\n",
    "\n",
    "# Waveguide insert\n",
    "RectInsert(3*Vp, 6*Vp, 0, SilH, 0, SilW, \"Si (Silicon) - Palik\", bragg)\n",
    "bragg.set(\"name\", \"Waveguide\")\n",
    "\n",
    "# Extremities insert\n",
    "RectInsert(-1e-6, 2e-6, 0, ExtH, 0, SilW, \"Si (Silicon) - Palik\", bragg)\n",
    "bragg.set(\"name\", \"W1\")\n",
    "RectInsert(6*Vp+1e-6, 2e-6, 0, ExtH, 0, SilW, \"Si (Silicon) - Palik\", bragg)\n",
    "bragg.set(\"name\", \"W2\")\n",
    "\n",
    "# Corrugation insert\n",
    "for i in range(3):\n",
    "    RectInsert(Vp/2 + 2*Vp*i, Vp, 0, ExtH+2*Vh, 0, SilW, \"Si (Silicon) - Palik\", bragg)\n",
    "    bragg.set(\"name\", \"Teeth \" + str(i+1))\n",
    "\n",
    "# EME setting\n",
    "bragg.addeme()\n",
    "\n",
    "bragg.set({\"y\":0, \"y span\":(ExtH+2*Vh)*1.5, \"z\":0, \"z span\":1e-6, \"x min\": -2e-6,\n",
    "         \"allow custom eigensolver settings\":1 ,\"display cells\":1, \"number of cell groups\":6,\n",
    "         \"group spans\": np.transpose([(2e-6, 2*Vp, Vp, Vp, 2*Vp, 2e-6)]),\n",
    "         \"cells\":np.transpose([2, 8, 4, 4, 8, 2]),\n",
    "         \"subcell method\":np.transpose([1, 1, 1, 1, 1, 1]), # 0 = none,  1 = CVCS\n",
    "         \"modes\":np.transpose([5, 5, 5, 5, 5, 5]),\n",
    "         \"number of periodic groups\":3})\n",
    "\n",
    "bragg.set({\"start cell group\":np.transpose([1,3,5]), \"end cell group\":np.transpose([2,4,6]), \"periods\":np.transpose([1,VpNum,1]),\n",
    "           \"wavelength\":1.5e-6,\n",
    "           \"mesh cells y\": 200, \"mesh cells z\": 200,\n",
    "           \"y min bc\":\"PML\", \"y max bc\":\"PML\", \"z min bc\":\"PML\", \"z max bc\":\"PML\"})\n",
    "# EME Ports setting\n",
    "bragg.selectpartial(\"EME::Ports::port\")\n",
    "bragg.delete()\n",
    "\n",
    "bragg.addemeport()\n",
    "bragg.set({\"use full simulation span\":0,\n",
    "\"port location\":\"left\",\n",
    "\"y\":0, \"y span\":3*(Vh+SilH),\n",
    "\"z\":0, \"z span\":1e-6})\n",
    "\n",
    "bragg.addemeport()\n",
    "bragg.set({\"use full simulation span\":0,\n",
    "\"port location\":\"right\",\n",
    "\"y\":0, \"y span\":3*(Vh+SilH),\n",
    "\"z\":0, \"z span\":1e-6})"
   ]
  },
  {
   "cell_type": "markdown",
   "metadata": {},
   "source": [
    "## Main model test"
   ]
  },
  {
   "cell_type": "code",
   "execution_count": 86,
   "metadata": {},
   "outputs": [],
   "source": [
    "bragg.switchtolayout()\n",
    "bragg.select(\"EME\")\n",
    "bragg.run()\n",
    "bragg.emepropagate()\n",
    "\n",
    "bragg.setemeanalysis(\"wavelength sweep\",1)\n",
    "bragg.setemeanalysis(\"start wavelength\",1.45e-6)\n",
    "bragg.setemeanalysis(\"stop wavelength\",1.60e-6)\n",
    "bragg.setemeanalysis(\"number of wavelength points\",2000)\n",
    "bragg.emesweep(\"wavelength sweep\")\n",
    "\n",
    "SWvMatrix = bragg.getemesweep(\"S_wavelength_sweep\")\n",
    "A = bragg.getresult(\"EME\",\"user s matrix\")"
   ]
  },
  {
   "cell_type": "code",
   "execution_count": 87,
   "metadata": {},
   "outputs": [
    {
     "name": "stdout",
     "output_type": "stream",
     "text": [
      "dict_keys(['wavelength', 's11', 's21', 's12', 's22', 'Lumerical_dataset'])\n"
     ]
    },
    {
     "data": {
      "image/png": "[encoded data removed]",
      "text/plain": [
       "<Figure size 864x504 with 1 Axes>"
      ]
     },
     "metadata": {
      "needs_background": "light"
     },
     "output_type": "display_data"
    }
   ],
   "source": [
    "print(SWvMatrix.keys())\n",
    "plt.figure(figsize=(12, 7))\n",
    "plt.plot(SWvMatrix['wavelength'],abs(SWvMatrix['s11'])**2)\n",
    "plt.grid()"
   ]
  },
  {
   "cell_type": "code",
   "execution_count": 81,
   "metadata": {},
   "outputs": [
    {
     "data": {
      "image/png": "[encoded data removed]",
      "text/plain": [
       "<Figure size 864x504 with 1 Axes>"
      ]
     },
     "metadata": {
      "needs_background": "light"
     },
     "output_type": "display_data"
    }
   ],
   "source": [
    "plt.figure(figsize=(12,7))\n",
    "plt.plot(SWvMatrix['wavelength'],10*np.log10(abs(SWvMatrix['s11'])**2))\n",
    "plt.grid()"
   ]
  }
 ],
 "metadata": {
  "kernelspec": {
   "display_name": "Python 3.10.2 64-bit",
   "language": "python",
   "name": "python3"
  },
  "language_info": {
   "codemirror_mode": {
    "name": "ipython",
    "version": 3
   },
   "file_extension": ".py",
   "mimetype": "text/x-python",
   "name": "python",
   "nbconvert_exporter": "python",
   "pygments_lexer": "ipython3",
   "version": "3.10.2"
  },
  "orig_nbformat": 4,
  "vscode": {
   "interpreter": {
    "hash": "9cbdc75d9e2f55d2d9002e3a3bcb34fdd032c5e2f75dfba8f134282fc3e89518"
   }
  }
 },
 "nbformat": 4,
 "nbformat_minor": 2
}
