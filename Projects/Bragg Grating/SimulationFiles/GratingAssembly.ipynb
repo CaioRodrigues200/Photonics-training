{
 "cells": [
  {
   "cell_type": "code",
   "execution_count": 52,
   "metadata": {},
   "outputs": [],
   "source": [
    "import numpy as np\n",
    "import matplotlib.pyplot as plt\n",
    "import matplotlib.ticker as tck\n",
    "import pandas as pd\n",
    "import sympy as sym\n",
    "import warnings\n",
    "import pickle as plk\n",
    "from IPython.display import display, Math\n",
    "from numpy.lib.scimath import sqrt as csqrt\n",
    "from scipy.signal import find_peaks\n",
    "\n",
    "import os\n",
    "import imp\n",
    "import sys\n",
    "import importlib.util\n",
    "\n",
    "###############################################################\n",
    "# LINUX PATH\n",
    "\n",
    "sys.path.append(\"/opt/lumerical/v221/api/python\") #Default linux lumapi path\n",
    "import lumapi\n",
    "sys.path.append(os.path.dirname('/home/trainner/Documentos/Caio/GitReps/Photonics-training/Projects/Bragg Grating/SimulationFiles')) #Current directory\n",
    "\n",
    "###############################################################\n",
    "# WINDOWS PATH\n",
    "\n",
    "# spec_win = importlib.util.spec_from_file_location('lumapi', 'C:\\\\Program Files\\\\Lumerical\\\\v202\\\\api\\\\python\\\\lumapi.py')\n",
    "# lumapi = importlib.util.module_from_spec(spec_win)\n",
    "# os.add_dll_directory(\"C:/Program Files/Lumerical/v202/api/python\")\n",
    "# sys.path.append(os.path.dirname('C:/Users/Caio/Documents/GitHub/Photonics-training/Projects/Bragg Grating/SimulationFiles/'))\n",
    "# spec_win.loader.exec_module(lumapi)"
   ]
  },
  {
   "cell_type": "code",
   "execution_count": 53,
   "metadata": {},
   "outputs": [],
   "source": [
    "bragg = lumapi.MODE(filename='BRAGGProjectEME.lms',hide=False) "
   ]
  },
  {
   "cell_type": "markdown",
   "metadata": {},
   "source": [
    "## Functions"
   ]
  },
  {
   "cell_type": "code",
   "execution_count": 54,
   "metadata": {},
   "outputs": [],
   "source": [
    "# Search for function's intersections on signal levels\n",
    "def signalLv(yarray,level,type):\n",
    "    peak, pd = find_peaks(yarray)\n",
    "    maxpeak = yarray[peak[np.argmax(yarray[peak])]]\n",
    "    minpeak = yarray[np.argmin(yarray)]\n",
    "    index = []\n",
    "\n",
    "    if(type == 'linear'):\n",
    "        lvpeak = (maxpeak - minpeak)*level + minpeak\n",
    "        for i in range(0,np.size(yarray)-1):\n",
    "            if(((maxpeak-yarray[i]) - (maxpeak-lvpeak)) * ((maxpeak-yarray[i+1]) - (maxpeak-lvpeak)) <= 0):\n",
    "                index.append(i)\n",
    "        yMed = (yarray[index[0]] + yarray[index[-1]])/2\n",
    "\n",
    "    if(type == 'log10'):\n",
    "        lvpeak = maxpeak + 10*np.log10(level)\n",
    "        for i in range(0,np.size(yarray)-1):\n",
    "            if(((maxpeak-yarray[i]) - (maxpeak-lvpeak)) * ((maxpeak-yarray[i+1]) - (maxpeak-lvpeak)) <= 0):\n",
    "                index.append(i)\n",
    "        yMed = 10*np.log10((10**(yarray[index[0]]/2) + 10**(yarray[index[1]]/2))/2)\n",
    "\n",
    "    return {'index':index,'yMed':yMed}\n",
    "\n",
    "\n",
    "# Creates a box\n",
    "def RectInsert(X,XSPAN,Y,YSPAN,Z,ZSPAN,MATERIAL,lumerical):\n",
    "    \n",
    "    lumerical.switchtolayout()\n",
    "    lumerical.addrect()\n",
    "    lumerical.set({\"x\":X,\"y\":Y,\"z\":Z,\n",
    "         \"x span\":XSPAN, \"y span\":YSPAN, \"z span\":ZSPAN,\n",
    "         \"material\":MATERIAL\n",
    "        })"
   ]
  },
  {
   "cell_type": "markdown",
   "metadata": {},
   "source": [
    "## Assembly parameters"
   ]
  },
  {
   "cell_type": "code",
   "execution_count": 55,
   "metadata": {},
   "outputs": [],
   "source": [
    "SilH = 450e-9 # Silicon height\n",
    "SilW = 220e-9 # Silicon width\n",
    "\n",
    "GlassH = 1e-6 # SiO2 height\n",
    "\n",
    "ExtH = 475e-9 # Extremities height\n",
    "\n",
    "Vp = 1e-6      # Grating Period\n",
    "Vh = 50e-9     # Grating height\n",
    "VpNum = 50     # Number of periods"
   ]
  },
  {
   "cell_type": "markdown",
   "metadata": {},
   "source": [
    "## Assembly main model"
   ]
  },
  {
   "cell_type": "code",
   "execution_count": 56,
   "metadata": {},
   "outputs": [],
   "source": [
    "bragg.switchtolayout()\n",
    "bragg.deleteall()\n",
    "\n",
    "# Substract insert\n",
    "RectInsert(3*Vp, 6*Vp + 4e-6, 0, GlassH*2, -(SilW+GlassH)/2, GlassH, \"SiO2 (Glass) - Palik\", bragg)\n",
    "bragg.set(\"name\", \"Substract\")\n",
    "\n",
    "# Waveguide insert\n",
    "RectInsert(3*Vp, 6*Vp, 0, SilH, 0, SilW, \"Si (Silicon) - Palik\", bragg)\n",
    "bragg.set(\"name\", \"Waveguide\")\n",
    "\n",
    "# Extremities insert\n",
    "RectInsert(-1e-6, 2e-6, 0, ExtH, 0, SilW, \"Si (Silicon) - Palik\", bragg)\n",
    "bragg.set(\"name\", \"W1\")\n",
    "RectInsert(7*Vp, 2e-6, 0, ExtH, 0, SilW, \"Si (Silicon) - Palik\", bragg)\n",
    "bragg.set(\"name\", \"W2\")\n",
    "\n",
    "# Corrugation insert\n",
    "for i in range(3):\n",
    "    RectInsert(Vp/2 + 2*Vp*i, Vp, 0, ExtH+2*Vh, 0, SilW, \"Si (Silicon) - Palik\", bragg)\n",
    "    bragg.set(\"name\", \"Teeth \" + str(i+1))\n",
    "\n",
    "# EME setting\n",
    "bragg.addeme()\n",
    "\n",
    "bragg.set({\"y\":0, \"y span\":ExtH+2*Vh, \"z\":0, \"z span\":SilW, \"x min\": -2e-6,\n",
    "         \"allow custom eigensolver settings\":1 ,\"display cells\":1, \"number of cell groups\":5,\n",
    "         \"group spans\": np.transpose([(2e-6, 2*Vp, 2*Vp, 2*Vp, 2e-6)]),\n",
    "         \"cells\":np.transpose([1, 1, 1, 1, 1]),\n",
    "         \"subcell method\":np.transpose([1, 1, 1, 1, 1]), # 0 = none,  1 = CVCS\n",
    "         \"modes\":np.transpose([10, 10, 10, 10, 10])})\n",
    "\n",
    "bragg.set({\"start cell group\":3, \"end cell group\":3, \"periods\":VpNum,\n",
    "           \"wavelength\":1.5e-6,\n",
    "           \"mesh cells y\": 200, \"mesh cells z\": 200})"
   ]
  },
  {
   "cell_type": "markdown",
   "metadata": {},
   "source": [
    "## Main model test"
   ]
  }
 ],
 "metadata": {
  "kernelspec": {
   "display_name": "Python 3.10.6 64-bit",
   "language": "python",
   "name": "python3"
  },
  "language_info": {
   "codemirror_mode": {
    "name": "ipython",
    "version": 3
   },
   "file_extension": ".py",
   "mimetype": "text/x-python",
   "name": "python",
   "nbconvert_exporter": "python",
   "pygments_lexer": "ipython3",
   "version": "3.10.6"
  },
  "orig_nbformat": 4,
  "vscode": {
   "interpreter": {
    "hash": "916dbcbb3f70747c44a77c7bcd40155683ae19c65e1c03b4aa3499c5328201f1"
   }
  }
 },
 "nbformat": 4,
 "nbformat_minor": 2
}
